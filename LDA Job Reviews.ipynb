{
 "cells": [
  {
   "cell_type": "markdown",
   "metadata": {},
   "source": [
    "# Introduction\n",
    "\n",
    "Sample code for using LDA for topic modeling. Data used are job reviews scraped from Glassdoor."
   ]
  },
  {
   "cell_type": "code",
   "execution_count": 23,
   "metadata": {},
   "outputs": [],
   "source": [
    "import nltk\n",
    "import spacy\n",
    "import numpy as np\n",
    "import pandas as pd\n",
    "import matplotlib.pyplot as plt\n",
    "import re\n",
    "from collections import Counter\n",
    "import pandas_profiling\n",
    "\n",
    "from sklearn.feature_extraction.text import CountVectorizer\n",
    "from keras.preprocessing.text import Tokenizer\n",
    "from keras.preprocessing.sequence import pad_sequences\n",
    "from keras.models import Sequential\n",
    "from keras.layers import Dense, Embedding, LSTM, SpatialDropout1D, Dropout, Bidirectional, GRU\n",
    "from sklearn.model_selection import train_test_split\n",
    "from keras.utils.np_utils import to_categorical\n",
    "from tensorflow.keras import regularizers\n",
    "\n",
    "import pickle\n",
    "from nltk.corpus import stopwords \n",
    "from nltk.stem.wordnet import WordNetLemmatizer\n",
    "\n",
    "nlp = spacy.load('en_core_web_sm')\n",
    "stops = stopwords.words('english')\n",
    "stops2 = spacy.lang.en.stop_words.STOP_WORDS\n",
    "\n",
    "word_lem = WordNetLemmatizer()"
   ]
  },
  {
   "cell_type": "code",
   "execution_count": 24,
   "metadata": {},
   "outputs": [
    {
     "name": "stderr",
     "output_type": "stream",
     "text": [
      "<>:81: DeprecationWarning: invalid escape sequence \\d\n",
      "<>:81: DeprecationWarning: invalid escape sequence \\d\n",
      "<>:81: DeprecationWarning: invalid escape sequence \\d\n",
      "<ipython-input-24-bdd0f434d6db>:81: DeprecationWarning: invalid escape sequence \\d\n",
      "  text = re.sub(\"p*\\d\", \"\", text)\n"
     ]
    }
   ],
   "source": [
    "stops = stopwords.words('english')\n",
    "contraction_mapping = {\"ain't\": \"is not\", \"aren't\": \"are not\",\"can't\": \"cannot\", \"'cause\": \"because\", \"could've\": \"could have\", \"couldn't\": \"could not\",\n",
    "\n",
    "                           \"didn't\": \"did not\", \"doesn't\": \"does not\", \"don't\": \"do not\", \"hadn't\": \"had not\", \"hasn't\": \"has not\", \"haven't\": \"have not\",\n",
    "\n",
    "                           \"he'd\": \"he would\",\"he'll\": \"he will\", \"he's\": \"he is\", \"how'd\": \"how did\", \"how'd'y\": \"how do you\", \"how'll\": \"how will\", \"how's\": \"how is\",\n",
    "\n",
    "                           \"I'd\": \"I would\", \"I'd've\": \"I would have\", \"I'll\": \"I will\", \"I'll've\": \"I will have\",\"I'm\": \"I am\", \"I've\": \"I have\", \"i'd\": \"i would\",\n",
    "\n",
    "                           \"i'd've\": \"i would have\", \"i'll\": \"i will\",  \"i'll've\": \"i will have\",\"i'm\": \"i am\", \"i've\": \"i have\", \"isn't\": \"is not\", \"it'd\": \"it would\",\n",
    "\n",
    "                           \"it'd've\": \"it would have\", \"it'll\": \"it will\", \"it'll've\": \"it will have\",\"it's\": \"it is\", \"let's\": \"let us\", \"ma'am\": \"madam\",\n",
    "\n",
    "                           \"mayn't\": \"may not\", \"might've\": \"might have\",\"mightn't\": \"might not\",\"mightn't've\": \"might not have\", \"must've\": \"must have\",\n",
    "\n",
    "                           \"mustn't\": \"must not\", \"mustn't've\": \"must not have\", \"needn't\": \"need not\", \"needn't've\": \"need not have\",\"o'clock\": \"of the clock\",\n",
    "\n",
    "                           \"oughtn't\": \"ought not\", \"oughtn't've\": \"ought not have\", \"shan't\": \"shall not\", \"sha'n't\": \"shall not\", \"shan't've\": \"shall not have\",\n",
    "\n",
    "                           \"she'd\": \"she would\", \"she'd've\": \"she would have\", \"she'll\": \"she will\", \"she'll've\": \"she will have\", \"she's\": \"she is\",\n",
    "\n",
    "                           \"should've\": \"should have\", \"shouldn't\": \"should not\", \"shouldn't've\": \"should not have\", \"so've\": \"so have\",\"so's\": \"so as\",\n",
    "\n",
    "                           \"this's\": \"this is\",\"that'd\": \"that would\", \"that'd've\": \"that would have\", \"that's\": \"that is\", \"there'd\": \"there would\",\n",
    "\n",
    "                           \"there'd've\": \"there would have\", \"there's\": \"there is\", \"here's\": \"here is\",\"they'd\": \"they would\", \"they'd've\": \"they would have\",\n",
    "\n",
    "                           \"they'll\": \"they will\", \"they'll've\": \"they will have\", \"they're\": \"they are\", \"they've\": \"they have\", \"to've\": \"to have\",\n",
    "\n",
    "                           \"wasn't\": \"was not\", \"we'd\": \"we would\", \"we'd've\": \"we would have\", \"we'll\": \"we will\", \"we'll've\": \"we will have\", \"we're\": \"we are\",\n",
    "\n",
    "                           \"we've\": \"we have\", \"weren't\": \"were not\", \"what'll\": \"what will\", \"what'll've\": \"what will have\", \"what're\": \"what are\",\n",
    "\n",
    "                           \"what's\": \"what is\", \"what've\": \"what have\", \"when's\": \"when is\", \"when've\": \"when have\", \"where'd\": \"where did\", \"where's\": \"where is\",\n",
    "\n",
    "                           \"where've\": \"where have\", \"who'll\": \"who will\", \"who'll've\": \"who will have\", \"who's\": \"who is\", \"who've\": \"who have\",\n",
    "\n",
    "                           \"why's\": \"why is\", \"why've\": \"why have\", \"will've\": \"will have\", \"won't\": \"will not\", \"won't've\": \"will not have\",\n",
    "\n",
    "                           \"would've\": \"would have\", \"wouldn't\": \"would not\", \"wouldn't've\": \"would not have\", \"y'all\": \"you all\",\n",
    "\n",
    "                           \"y'all'd\": \"you all would\",\"y'all'd've\": \"you all would have\",\"y'all're\": \"you all are\",\"y'all've\": \"you all have\",\n",
    "\n",
    "                           \"you'd\": \"you would\", \"you'd've\": \"you would have\", \"you'll\": \"you will\", \"you'll've\": \"you will have\",\n",
    "\n",
    "                           \"you're\": \"you are\", \"you've\": \"you have\"}\n",
    "\n",
    "\n",
    "def clean_text(text, clean_only=False, \n",
    "               parts_of_speech=['ADJ' ,'NOUN', 'ADV', 'VERB'],\n",
    "              remove_sw=True, sw=stops):\n",
    "    \"\"\"\n",
    "    Cleans text and filters according to part of speech.\n",
    "    \n",
    "    Parameters\n",
    "    ----------\n",
    "    text : str\n",
    "    \n",
    "    clean_only : bool\n",
    "        default at false, will return cleaned string with no tagging\n",
    "    \n",
    "    parts_of_speech : list of strings\n",
    "        refer to parts of speech in SpaCy\n",
    "        \n",
    "    remove_sw : bool\n",
    "    \n",
    "    sw : list of strings\n",
    "        add your own if necessary\n",
    "        \n",
    "    Returns\n",
    "    -------\n",
    "    out3 : str\n",
    "        string with parts of speech filtered\n",
    "    \"\"\"\n",
    "    # cleaning\n",
    "    text = text.lower()\n",
    "    text = text.replace('\\xa0', ' ')\n",
    "    text = text.replace('\\n', ' ')\n",
    "    text = text.replace('\\r', ' ')\n",
    "    text = re.sub(r'[^\\w\\s]+', ' ', text)\n",
    "    text = re.sub(\"p*\\d\", \"\", text)\n",
    "    text = re.sub(r\" +\", ' ', text)\n",
    "    text = ' '.join([contraction_mapping[t] if t in contraction_mapping else t for t in text.split(\" \")])\n",
    "    \n",
    "    if clean_only == True:\n",
    "\n",
    "        return text\n",
    "    \n",
    "    else: \n",
    "        # pass text into nlp then remove stopwords\n",
    "        text = nlp(text)\n",
    "\n",
    "        # .lemma_ and .pos_ are helpful extracting the lemmatized\n",
    "        # word and part of speech.\n",
    "\n",
    "        out = []\n",
    "        for token in text:\n",
    "             out.append((token.lemma_, token.pos_))\n",
    "        poss = parts_of_speech\n",
    "\n",
    "        out3 = ''\n",
    "\n",
    "        for item in out:\n",
    "            if item[1] in poss:\n",
    "                out3 = out3 + ' ' + item[0]\n",
    "\n",
    "        if remove_sw:\n",
    "            dummy = out3.split()\n",
    "            dummy = [word for word in dummy if word not in sw]\n",
    "            out3 = ' '.join(dummy)\n",
    "            return out3.strip()\n",
    "\n",
    "        else:\n",
    "            \n",
    "            return out3.strip()"
   ]
  },
  {
   "cell_type": "code",
   "execution_count": 20,
   "metadata": {},
   "outputs": [
    {
     "data": {
      "text/html": [
       "<div>\n",
       "<style scoped>\n",
       "    .dataframe tbody tr th:only-of-type {\n",
       "        vertical-align: middle;\n",
       "    }\n",
       "\n",
       "    .dataframe tbody tr th {\n",
       "        vertical-align: top;\n",
       "    }\n",
       "\n",
       "    .dataframe thead th {\n",
       "        text-align: right;\n",
       "    }\n",
       "</style>\n",
       "<table border=\"1\" class=\"dataframe\">\n",
       "  <thead>\n",
       "    <tr style=\"text-align: right;\">\n",
       "      <th></th>\n",
       "      <th>review</th>\n",
       "      <th>rating</th>\n",
       "    </tr>\n",
       "  </thead>\n",
       "  <tbody>\n",
       "    <tr>\n",
       "      <th>0</th>\n",
       "      <td>accomodating staff clean environment think con...</td>\n",
       "      <td>3.0</td>\n",
       "    </tr>\n",
       "    <tr>\n",
       "      <th>1</th>\n",
       "      <td>well know company philippine line money remitt...</td>\n",
       "      <td>5.0</td>\n",
       "    </tr>\n",
       "    <tr>\n",
       "      <th>2</th>\n",
       "      <td>know cebuana country big company pawnshop grea...</td>\n",
       "      <td>4.0</td>\n",
       "    </tr>\n",
       "    <tr>\n",
       "      <th>3</th>\n",
       "      <td>acra acra acra acra operation division family ...</td>\n",
       "      <td>3.0</td>\n",
       "    </tr>\n",
       "    <tr>\n",
       "      <th>4</th>\n",
       "      <td>salary always time much pressure especially se...</td>\n",
       "      <td>3.0</td>\n",
       "    </tr>\n",
       "  </tbody>\n",
       "</table>\n",
       "</div>"
      ],
      "text/plain": [
       "                                              review rating\n",
       "0  accomodating staff clean environment think con...    3.0\n",
       "1  well know company philippine line money remitt...    5.0\n",
       "2  know cebuana country big company pawnshop grea...    4.0\n",
       "3  acra acra acra acra operation division family ...    3.0\n",
       "4  salary always time much pressure especially se...    3.0"
      ]
     },
     "execution_count": 20,
     "metadata": {},
     "output_type": "execute_result"
    }
   ],
   "source": [
    "pickle_in = open(\"DF_glassdoor.pickle_v2\",\"rb\")\n",
    "df = pickle.load(pickle_in)\n",
    "df.head()"
   ]
  },
  {
   "cell_type": "markdown",
   "metadata": {},
   "source": [
    "# LDA"
   ]
  },
  {
   "cell_type": "code",
   "execution_count": 21,
   "metadata": {},
   "outputs": [],
   "source": [
    "import string \n",
    "import gensim\n",
    "from gensim import corpora"
   ]
  },
  {
   "cell_type": "code",
   "execution_count": 5,
   "metadata": {},
   "outputs": [],
   "source": [
    "def lda_prep(docs):\n",
    "    \"\"\"\n",
    "    Creates a document-term matrix for LDA application.\n",
    "    \n",
    "    Parameters\n",
    "    ----------\n",
    "    docs : list of strings\n",
    "    \n",
    "    Returns\n",
    "    -------\n",
    "    doc_term_matrix : array\n",
    "        Use this as input for the LDA model\n",
    "    dictionary : something\n",
    "        this one too\n",
    "    \"\"\"\n",
    "    docs2 = [x.split(' ') for x in docs]\n",
    "    dictionary = corpora.Dictionary(docs2)\n",
    "    doc_term_matrix = [dictionary.doc2bow(doc) for doc in docs2]\n",
    "    \n",
    "    return doc_term_matrix, dictionary"
   ]
  },
  {
   "cell_type": "code",
   "execution_count": 6,
   "metadata": {},
   "outputs": [],
   "source": [
    "corp = list(df['review'])"
   ]
  },
  {
   "cell_type": "code",
   "execution_count": 7,
   "metadata": {},
   "outputs": [],
   "source": [
    "dt_matrix, mdict = lda_prep(corp)"
   ]
  },
  {
   "cell_type": "code",
   "execution_count": 8,
   "metadata": {},
   "outputs": [],
   "source": [
    "# Creating the object for LDA model using gensim library\n",
    "Lda = gensim.models.ldamodel.LdaModel\n",
    "\n",
    "# Running and Trainign LDA model on the document term matrix. Let's try with 2 topics\n",
    "ldamodel = Lda(dt_matrix, num_topics=5, id2word = mdict, passes=50)"
   ]
  },
  {
   "cell_type": "code",
   "execution_count": 9,
   "metadata": {},
   "outputs": [
    {
     "data": {
      "text/plain": [
       "[(0,\n",
       "  '0.022*\"company\" + 0.019*\"people\" + 0.014*\"employee\" + 0.013*\"great\" + 0.011*\"life\" + 0.010*\"manager\" + 0.010*\"make\"'),\n",
       " (1,\n",
       "  '0.018*\"time\" + 0.017*\"jollibee\" + 0.017*\"customer\" + 0.011*\"always\" + 0.011*\"give\" + 0.011*\"service\" + 0.010*\"day\"'),\n",
       " (2,\n",
       "  '0.023*\"employee\" + 0.013*\"get\" + 0.012*\"pay\" + 0.011*\"hour\" + 0.011*\"job\" + 0.011*\"people\" + 0.010*\"time\"'),\n",
       " (3,\n",
       "  '0.019*\"benefit\" + 0.014*\"employee\" + 0.012*\"company\" + 0.010*\"great\" + 0.009*\"lot\" + 0.009*\"management\" + 0.008*\"give\"'),\n",
       " (4,\n",
       "  '0.023*\"company\" + 0.013*\"time\" + 0.011*\"family\" + 0.011*\"help\" + 0.009*\"training\" + 0.009*\"lot\" + 0.009*\"salary\"')]"
      ]
     },
     "execution_count": 9,
     "metadata": {},
     "output_type": "execute_result"
    }
   ],
   "source": [
    "ldamodel.print_topics(num_words=7)"
   ]
  },
  {
   "cell_type": "code",
   "execution_count": 13,
   "metadata": {},
   "outputs": [
    {
     "name": "stdout",
     "output_type": "stream",
     "text": [
      "['complexity', 'science', 'class', 'has', 'been', 'cancelled']\n",
      "[(922, 1)]\n"
     ]
    },
    {
     "data": {
      "text/plain": [
       "[(0, 0.594819),\n",
       " (1, 0.10292091),\n",
       " (2, 0.100007154),\n",
       " (3, 0.102245696),\n",
       " (4, 0.10000727)]"
      ]
     },
     "execution_count": 13,
     "metadata": {},
     "output_type": "execute_result"
    }
   ],
   "source": [
    "new_doc = \"complexity science class has been cancelled\"\n",
    "new_str = new_doc.split(' ')\n",
    "print(new_str)\n",
    "new_doc_bow = mdict.doc2bow(new_str)\n",
    "print(new_doc_bow)\n",
    "probs = ldamodel.get_document_topics(new_doc_bow)\n",
    "probs"
   ]
  },
  {
   "cell_type": "code",
   "execution_count": 14,
   "metadata": {},
   "outputs": [
    {
     "data": {
      "text/plain": [
       "0"
      ]
     },
     "execution_count": 14,
     "metadata": {},
     "output_type": "execute_result"
    }
   ],
   "source": [
    "probs.sort(key=lambda x: -x[1])\n",
    "probs[0][0]"
   ]
  },
  {
   "cell_type": "code",
   "execution_count": 15,
   "metadata": {},
   "outputs": [],
   "source": [
    "def get_topic(input_string):\n",
    "    new_str = clean_text(input_string).split(' ')\n",
    "    new_doc_bow = mdict.doc2bow(new_str)\n",
    "    probs = ldamodel.get_document_topics(new_doc_bow)\n",
    "    probs.sort(key=lambda x: -x[1])\n",
    "    \n",
    "    return probs[0][0]"
   ]
  },
  {
   "cell_type": "code",
   "execution_count": 25,
   "metadata": {},
   "outputs": [
    {
     "data": {
      "text/plain": [
       "1"
      ]
     },
     "execution_count": 25,
     "metadata": {},
     "output_type": "execute_result"
    }
   ],
   "source": [
    "get_topic(\"financial matters and eating for cryptocurrency\")"
   ]
  },
  {
   "cell_type": "code",
   "execution_count": 33,
   "metadata": {},
   "outputs": [
    {
     "data": {
      "text/plain": [
       "0"
      ]
     },
     "execution_count": 33,
     "metadata": {},
     "output_type": "execute_result"
    }
   ],
   "source": [
    "get_topic(\"I love my job it is very tiring i want to work somewhere else\")"
   ]
  },
  {
   "cell_type": "code",
   "execution_count": 31,
   "metadata": {},
   "outputs": [
    {
     "data": {
      "text/html": [
       "<div>\n",
       "<style scoped>\n",
       "    .dataframe tbody tr th:only-of-type {\n",
       "        vertical-align: middle;\n",
       "    }\n",
       "\n",
       "    .dataframe tbody tr th {\n",
       "        vertical-align: top;\n",
       "    }\n",
       "\n",
       "    .dataframe thead th {\n",
       "        text-align: right;\n",
       "    }\n",
       "</style>\n",
       "<table border=\"1\" class=\"dataframe\">\n",
       "  <thead>\n",
       "    <tr style=\"text-align: right;\">\n",
       "      <th></th>\n",
       "      <th>review</th>\n",
       "      <th>rating</th>\n",
       "      <th>topic</th>\n",
       "    </tr>\n",
       "  </thead>\n",
       "  <tbody>\n",
       "    <tr>\n",
       "      <th>0</th>\n",
       "      <td>accomodating staff clean environment think con...</td>\n",
       "      <td>3.0</td>\n",
       "      <td>0</td>\n",
       "    </tr>\n",
       "    <tr>\n",
       "      <th>1</th>\n",
       "      <td>well know company philippine line money remitt...</td>\n",
       "      <td>5.0</td>\n",
       "      <td>2</td>\n",
       "    </tr>\n",
       "    <tr>\n",
       "      <th>2</th>\n",
       "      <td>know cebuana country big company pawnshop grea...</td>\n",
       "      <td>4.0</td>\n",
       "      <td>4</td>\n",
       "    </tr>\n",
       "    <tr>\n",
       "      <th>3</th>\n",
       "      <td>acra acra acra acra operation division family ...</td>\n",
       "      <td>3.0</td>\n",
       "      <td>0</td>\n",
       "    </tr>\n",
       "    <tr>\n",
       "      <th>4</th>\n",
       "      <td>salary always time much pressure especially se...</td>\n",
       "      <td>3.0</td>\n",
       "      <td>4</td>\n",
       "    </tr>\n",
       "  </tbody>\n",
       "</table>\n",
       "</div>"
      ],
      "text/plain": [
       "                                              review rating  topic\n",
       "0  accomodating staff clean environment think con...    3.0      0\n",
       "1  well know company philippine line money remitt...    5.0      2\n",
       "2  know cebuana country big company pawnshop grea...    4.0      4\n",
       "3  acra acra acra acra operation division family ...    3.0      0\n",
       "4  salary always time much pressure especially se...    3.0      4"
      ]
     },
     "execution_count": 31,
     "metadata": {},
     "output_type": "execute_result"
    }
   ],
   "source": [
    "df['topic'] = df['review'].apply(lambda x: get_topic(x))\n",
    "df.head()"
   ]
  },
  {
   "cell_type": "code",
   "execution_count": null,
   "metadata": {},
   "outputs": [],
   "source": []
  },
  {
   "cell_type": "code",
   "execution_count": 10,
   "metadata": {},
   "outputs": [],
   "source": [
    "import pyLDAvis\n",
    "import pyLDAvis.gensim\n",
    "pyLDAvis.enable_notebook()\n",
    "# movies_vis_data = pyLDAvis.prepare(**movies_model_data)"
   ]
  },
  {
   "cell_type": "markdown",
   "metadata": {},
   "source": [
    "Below is an implementation of pyLDAvis, which visualizes LDA results."
   ]
  },
  {
   "cell_type": "code",
   "execution_count": 11,
   "metadata": {},
   "outputs": [
    {
     "name": "stderr",
     "output_type": "stream",
     "text": [
      "C:\\Users\\Armand\\Anaconda3\\lib\\site-packages\\pyLDAvis\\_prepare.py:257: FutureWarning: Sorting because non-concatenation axis is not aligned. A future version\n",
      "of pandas will change to not sort by default.\n",
      "\n",
      "To accept the future behavior, pass 'sort=False'.\n",
      "\n",
      "To retain the current behavior and silence the warning, pass 'sort=True'.\n",
      "\n",
      "  return pd.concat([default_term_info] + list(topic_dfs))\n"
     ]
    },
    {
     "data": {
      "text/html": [
       "\n",
       "<link rel=\"stylesheet\" type=\"text/css\" href=\"https://cdn.rawgit.com/bmabey/pyLDAvis/files/ldavis.v1.0.0.css\">\n",
       "\n",
       "\n",
       "<div id=\"ldavis_el1465227216969357529961816675\"></div>\n",
       "<script type=\"text/javascript\">\n",
       "\n",
       "var ldavis_el1465227216969357529961816675_data = {\"mdsDat\": {\"x\": [0.04793782255765304, -0.11940970156647934, -0.023070045526621098, 0.06985086541846246, 0.024691059116984937], \"y\": [0.025306444526100348, -0.042119269054110724, 0.04166336450813124, -0.1033623416431974, 0.07851180166307653], \"topics\": [1, 2, 3, 4, 5], \"cluster\": [1, 1, 1, 1, 1], \"Freq\": [39.964317321777344, 16.93975257873535, 15.282027244567871, 14.22307300567627, 13.590821266174316]}, \"tinfo\": {\"Category\": [\"Default\", \"Default\", \"Default\", \"Default\", \"Default\", \"Default\", \"Default\", \"Default\", \"Default\", \"Default\", \"Default\", \"Default\", \"Default\", \"Default\", \"Default\", \"Default\", \"Default\", \"Default\", \"Default\", \"Default\", \"Default\", \"Default\", \"Default\", \"Default\", \"Default\", \"Default\", \"Default\", \"Default\", \"Default\", \"Default\", \"Topic1\", \"Topic1\", \"Topic1\", \"Topic1\", \"Topic1\", \"Topic1\", \"Topic1\", \"Topic1\", \"Topic1\", \"Topic1\", \"Topic1\", \"Topic1\", \"Topic1\", \"Topic1\", \"Topic1\", \"Topic1\", \"Topic1\", \"Topic1\", \"Topic1\", \"Topic1\", \"Topic1\", \"Topic1\", \"Topic1\", \"Topic1\", \"Topic1\", \"Topic1\", \"Topic1\", \"Topic1\", \"Topic1\", \"Topic1\", \"Topic1\", \"Topic1\", \"Topic1\", \"Topic1\", \"Topic1\", \"Topic1\", \"Topic1\", \"Topic1\", \"Topic1\", \"Topic1\", \"Topic1\", \"Topic1\", \"Topic1\", \"Topic1\", \"Topic1\", \"Topic1\", \"Topic1\", \"Topic1\", \"Topic1\", \"Topic1\", \"Topic1\", \"Topic1\", \"Topic1\", \"Topic1\", \"Topic1\", \"Topic1\", \"Topic1\", \"Topic1\", \"Topic1\", \"Topic1\", \"Topic1\", \"Topic1\", \"Topic1\", \"Topic1\", \"Topic1\", \"Topic1\", \"Topic1\", \"Topic1\", \"Topic1\", \"Topic1\", \"Topic1\", \"Topic1\", \"Topic2\", \"Topic2\", \"Topic2\", \"Topic2\", \"Topic2\", \"Topic2\", \"Topic2\", \"Topic2\", \"Topic2\", \"Topic2\", \"Topic2\", \"Topic2\", \"Topic2\", \"Topic2\", \"Topic2\", \"Topic2\", \"Topic2\", \"Topic2\", \"Topic2\", \"Topic2\", \"Topic2\", \"Topic2\", \"Topic2\", \"Topic2\", \"Topic2\", \"Topic2\", \"Topic2\", \"Topic2\", \"Topic2\", \"Topic2\", \"Topic2\", \"Topic2\", \"Topic2\", \"Topic2\", \"Topic2\", \"Topic2\", \"Topic2\", \"Topic2\", \"Topic2\", \"Topic2\", \"Topic2\", \"Topic2\", \"Topic2\", \"Topic2\", \"Topic2\", \"Topic2\", \"Topic2\", \"Topic2\", \"Topic2\", \"Topic2\", \"Topic2\", \"Topic2\", \"Topic2\", \"Topic2\", \"Topic2\", \"Topic2\", \"Topic2\", \"Topic2\", \"Topic2\", \"Topic2\", \"Topic2\", \"Topic2\", \"Topic2\", \"Topic2\", \"Topic2\", \"Topic2\", \"Topic2\", \"Topic2\", \"Topic2\", \"Topic2\", \"Topic2\", \"Topic2\", \"Topic2\", \"Topic3\", \"Topic3\", \"Topic3\", \"Topic3\", \"Topic3\", \"Topic3\", \"Topic3\", \"Topic3\", \"Topic3\", \"Topic3\", \"Topic3\", \"Topic3\", \"Topic3\", \"Topic3\", \"Topic3\", \"Topic3\", \"Topic3\", \"Topic3\", \"Topic3\", \"Topic3\", \"Topic3\", \"Topic3\", \"Topic3\", \"Topic3\", \"Topic3\", \"Topic3\", \"Topic3\", \"Topic3\", \"Topic3\", \"Topic3\", \"Topic3\", \"Topic3\", \"Topic3\", \"Topic3\", \"Topic3\", \"Topic3\", \"Topic3\", \"Topic3\", \"Topic3\", \"Topic3\", \"Topic3\", \"Topic3\", \"Topic3\", \"Topic3\", \"Topic3\", \"Topic3\", \"Topic3\", \"Topic3\", \"Topic3\", \"Topic3\", \"Topic3\", \"Topic3\", \"Topic3\", \"Topic3\", \"Topic3\", \"Topic3\", \"Topic3\", \"Topic3\", \"Topic3\", \"Topic3\", \"Topic3\", \"Topic3\", \"Topic3\", \"Topic3\", \"Topic3\", \"Topic3\", \"Topic3\", \"Topic3\", \"Topic3\", \"Topic3\", \"Topic3\", \"Topic3\", \"Topic3\", \"Topic4\", \"Topic4\", \"Topic4\", \"Topic4\", \"Topic4\", \"Topic4\", \"Topic4\", \"Topic4\", \"Topic4\", \"Topic4\", \"Topic4\", \"Topic4\", \"Topic4\", \"Topic4\", \"Topic4\", \"Topic4\", \"Topic4\", \"Topic4\", \"Topic4\", \"Topic4\", \"Topic4\", \"Topic4\", \"Topic4\", \"Topic4\", \"Topic4\", \"Topic4\", \"Topic4\", \"Topic4\", \"Topic4\", \"Topic4\", \"Topic4\", \"Topic4\", \"Topic4\", \"Topic4\", \"Topic4\", \"Topic4\", \"Topic4\", \"Topic4\", \"Topic4\", \"Topic4\", \"Topic4\", \"Topic4\", \"Topic4\", \"Topic4\", \"Topic4\", \"Topic4\", \"Topic4\", \"Topic4\", \"Topic4\", \"Topic4\", \"Topic4\", \"Topic4\", \"Topic4\", \"Topic4\", \"Topic4\", \"Topic4\", \"Topic4\", \"Topic4\", \"Topic4\", \"Topic4\", \"Topic4\", \"Topic4\", \"Topic4\", \"Topic4\", \"Topic4\", \"Topic4\", \"Topic4\", \"Topic4\", \"Topic4\", \"Topic4\", \"Topic4\", \"Topic4\", \"Topic4\", \"Topic4\", \"Topic4\", \"Topic4\", \"Topic4\", \"Topic4\", \"Topic4\", \"Topic4\", \"Topic5\", \"Topic5\", \"Topic5\", \"Topic5\", \"Topic5\", \"Topic5\", \"Topic5\", \"Topic5\", \"Topic5\", \"Topic5\", \"Topic5\", \"Topic5\", \"Topic5\", \"Topic5\", \"Topic5\", \"Topic5\", \"Topic5\", \"Topic5\", \"Topic5\", \"Topic5\", \"Topic5\", \"Topic5\", \"Topic5\", \"Topic5\", \"Topic5\", \"Topic5\", \"Topic5\", \"Topic5\", \"Topic5\", \"Topic5\", \"Topic5\", \"Topic5\", \"Topic5\", \"Topic5\", \"Topic5\", \"Topic5\", \"Topic5\", \"Topic5\", \"Topic5\", \"Topic5\", \"Topic5\", \"Topic5\", \"Topic5\", \"Topic5\", \"Topic5\", \"Topic5\", \"Topic5\", \"Topic5\", \"Topic5\", \"Topic5\", \"Topic5\", \"Topic5\", \"Topic5\", \"Topic5\", \"Topic5\", \"Topic5\", \"Topic5\", \"Topic5\", \"Topic5\", \"Topic5\", \"Topic5\", \"Topic5\", \"Topic5\", \"Topic5\", \"Topic5\", \"Topic5\", \"Topic5\", \"Topic5\", \"Topic5\", \"Topic5\", \"Topic5\", \"Topic5\", \"Topic5\", \"Topic5\", \"Topic5\", \"Topic5\", \"Topic5\", \"Topic5\", \"Topic5\"], \"Freq\": [48.0, 71.0, 26.0, 152.0, 103.0, 71.0, 114.0, 44.0, 41.0, 44.0, 205.0, 46.0, 58.0, 31.0, 61.0, 50.0, 78.0, 50.0, 27.0, 49.0, 68.0, 19.0, 22.0, 77.0, 15.0, 85.0, 108.0, 71.0, 35.0, 61.0, 9.214515686035156, 7.402480602264404, 8.21552562713623, 8.209085464477539, 6.50296688079834, 5.599047660827637, 5.598782539367676, 5.5964674949646, 5.5920186042785645, 12.753296852111816, 5.584740161895752, 6.315675258636475, 4.697577953338623, 4.696876049041748, 4.696610927581787, 4.696106910705566, 4.695234298706055, 4.694938659667969, 4.690785884857178, 4.666585922241211, 53.42499923706055, 10.046284675598145, 4.638840675354004, 14.624970436096191, 8.364630699157715, 13.700356483459473, 3.794213056564331, 3.7942090034484863, 3.794206142425537, 3.7924094200134277, 39.47139358520508, 27.43766212463379, 7.403242111206055, 7.999955654144287, 35.44032669067383, 92.30846405029297, 24.577600479125977, 48.095401763916016, 11.66671371459961, 25.010038375854492, 109.72955322265625, 28.505165100097656, 17.42063331604004, 62.24252700805664, 44.80125045776367, 19.12779426574707, 15.537853240966797, 16.49667739868164, 50.65159606933594, 27.000356674194336, 16.75263214111328, 66.5065689086914, 25.91254997253418, 32.529510498046875, 24.004249572753906, 36.96550369262695, 47.0988655090332, 26.1439151763916, 42.28147888183594, 23.450376510620117, 20.875812530517578, 23.37127685546875, 23.80628204345703, 22.11280059814453, 28.173702239990234, 21.7063045501709, 27.41641616821289, 26.604827880859375, 25.554096221923828, 26.605215072631836, 24.889415740966797, 25.336320877075195, 5.090634822845459, 4.25753116607666, 22.780607223510742, 3.448823928833008, 3.386953830718994, 2.6290512084960938, 2.6280853748321533, 2.626161575317383, 5.093656539916992, 4.273134231567383, 5.461704730987549, 35.7740592956543, 1.8074724674224854, 1.8074710369110107, 1.807470679283142, 1.8074709177017212, 1.807470440864563, 1.807470440864563, 1.807468295097351, 1.8074676990509033, 1.8074666261672974, 1.807465672492981, 1.8074653148651123, 1.8074634075164795, 1.8074634075164795, 1.807462453842163, 1.807462215423584, 1.8074594736099243, 1.8074594736099243, 1.80744469165802, 5.760890007019043, 6.613459587097168, 19.484272003173828, 3.4469425678253174, 4.414379119873047, 5.840794563293457, 3.311598777770996, 34.240718841552734, 3.2878777980804443, 23.303565979003906, 5.829726219177246, 8.702937126159668, 4.4830803871154785, 10.00790023803711, 5.437819480895996, 4.06342077255249, 21.245084762573242, 11.694038391113281, 37.28301239013672, 7.518517971038818, 11.06102466583252, 18.74267578125, 20.48564338684082, 14.664984703063965, 22.792469024658203, 9.359813690185547, 10.052024841308594, 9.078827857971191, 10.719676971435547, 17.265195846557617, 18.951656341552734, 13.379755973815918, 12.867173194885254, 17.006025314331055, 19.858949661254883, 16.122798919677734, 13.389558792114258, 19.68071746826172, 11.169976234436035, 10.592438697814941, 12.248967170715332, 11.527397155761719, 9.414871215820312, 3.386305570602417, 7.230299472808838, 2.5968384742736816, 2.596837282180786, 2.595827579498291, 2.595255136489868, 5.02993106842041, 1.7853268384933472, 1.7853245735168457, 1.7853224277496338, 1.7853199243545532, 1.7851365804672241, 1.7851365804672241, 1.7850797176361084, 1.7844661474227905, 1.7844659090042114, 1.7839983701705933, 1.7839969396591187, 1.7839553356170654, 1.7834230661392212, 1.7826282978057861, 1.7825926542282104, 1.781999945640564, 1.7791485786437988, 1.7777663469314575, 1.7776603698730469, 1.7775849103927612, 1.7774842977523804, 1.7758878469467163, 1.7748252153396606, 3.9927926063537598, 5.029661655426025, 9.777932167053223, 8.805039405822754, 5.8313307762146, 25.116647720336914, 42.27698516845703, 10.1306791305542, 22.225929260253906, 8.81309700012207, 6.764260292053223, 3.4103994369506836, 4.122811794281006, 2.5919296741485596, 20.354198455810547, 5.845078468322754, 2.6001501083374023, 21.105587005615234, 16.014049530029297, 2.571960210800171, 4.975009441375732, 10.785480499267578, 6.004724502563477, 12.884825706481934, 10.419443130493164, 7.166240215301514, 12.50926399230957, 14.60381031036377, 18.713171005249023, 14.758757591247559, 16.938865661621094, 19.980499267578125, 11.290767669677734, 9.713327407836914, 14.160058975219727, 9.443349838256836, 9.140472412109375, 14.315773010253906, 11.214949607849121, 9.655717849731445, 9.975300788879395, 9.144378662109375, 8.962794303894043, 4.143686771392822, 4.0721259117126465, 3.350080728530884, 3.3449347019195557, 2.552736520767212, 2.5524187088012695, 2.551759719848633, 2.551759719848633, 1.7550147771835327, 1.7550150156021118, 1.7550145387649536, 1.755014419555664, 1.755014419555664, 1.755014181137085, 1.755011796951294, 1.7550104856491089, 1.755007266998291, 1.7541707754135132, 1.7541370391845703, 1.7538228034973145, 1.7537189722061157, 1.7536274194717407, 1.7525585889816284, 1.7523690462112427, 1.751631498336792, 1.7513757944107056, 1.7501647472381592, 1.7500019073486328, 1.7492382526397705, 1.747591257095337, 5.648882865905762, 3.3477981090545654, 9.644692420959473, 6.767912864685059, 3.2590067386627197, 4.149965286254883, 4.051573276519775, 4.947873115539551, 4.842409610748291, 19.846908569335938, 18.26921272277832, 7.034268856048584, 11.112565994262695, 8.452587127685547, 4.14972448348999, 3.348750114440918, 7.9958343505859375, 2.5495879650115967, 4.03109073638916, 14.510042190551758, 2.5210535526275635, 40.627471923828125, 4.950468063354492, 15.734641075134277, 5.490110874176025, 23.41083335876465, 11.642671585083008, 7.233872890472412, 8.249679565429688, 15.441190719604492, 10.778178215026855, 12.668701171875, 15.507773399353027, 7.009734153747559, 7.743563652038574, 6.66578483581543, 14.241230964660645, 10.119911193847656, 12.87983226776123, 9.093779563903809, 9.946221351623535, 6.852875232696533, 10.291121482849121, 7.487249374389648, 7.803565979003906, 8.35513973236084, 8.239983558654785, 7.700802803039551, 7.379539966583252, 7.275487899780273, 4.136281967163086, 3.338711977005005, 2.544886350631714, 2.544584274291992, 2.5397863388061523, 1.7499654293060303, 1.7499650716781616, 1.7499642372131348, 1.7499626874923706, 1.7499616146087646, 1.7499598264694214, 1.7497185468673706, 1.7495436668395996, 1.7491228580474854, 1.7490864992141724, 1.7490355968475342, 1.7490768432617188, 1.7486536502838135, 1.748069405555725, 1.7477203607559204, 1.7476799488067627, 1.747672200202942, 1.747257113456726, 1.7471674680709839, 1.7458792924880981, 1.713181495666504, 3.2638871669769287, 1.6189886331558228, 2.5948486328125, 2.546900987625122, 2.545027017593384, 3.3410708904266357, 9.902523040771484, 31.101299285888672, 4.7152299880981445, 3.3441054821014404, 2.54590106010437, 2.5407423973083496, 3.9886112213134766, 4.548464775085449, 10.106768608093262, 2.545665979385376, 2.5453341007232666, 2.54445481300354, 2.544128894805908, 9.28636646270752, 2.4988951683044434, 11.834633827209473, 5.5429182052612305, 9.625126838684082, 5.735434055328369, 3.342430591583252, 15.673612594604492, 22.868640899658203, 17.38483238220215, 13.569300651550293, 13.174246788024902, 6.482939720153809, 13.577027320861816, 15.477187156677246, 4.14202880859375, 20.69023323059082, 8.059782981872559, 6.043702125549316, 10.718239784240723, 5.883780002593994, 7.743320465087891, 10.387661933898926, 9.337032318115234, 7.82326602935791, 10.02202033996582, 8.661338806152344, 9.679018020629883, 10.33046817779541, 8.348526954650879, 6.9392991065979, 6.338204860687256, 6.158478260040283, 6.189744472503662], \"Term\": [\"jollibee\", \"customer\", \"service\", \"employee\", \"benefit\", \"get\", \"time\", \"family\", \"help\", \"opportunity\", \"company\", \"balance\", \"learn\", \"crew\", \"life\", \"always\", \"lot\", \"keep\", \"career\", \"day\", \"pay\", \"working\", \"place\", \"give\", \"retail\", \"hour\", \"great\", \"job\", \"sale\", \"training\", \"division\", \"woman\", \"decline\", \"drive\", \"group\", \"chicken\", \"marketing\", \"share\", \"mcdonald\", \"decision\", \"please\", \"move\", \"scam\", \"thigh\", \"wonderful\", \"sense\", \"receive\", \"security\", \"selling\", \"act\", \"life\", \"executive\", \"something\", \"field\", \"room\", \"meet\", \"churn\", \"acra\", \"resource\", \"today\", \"balance\", \"growth\", \"personal\", \"constantly\", \"new\", \"people\", \"representative\", \"make\", \"promotion\", \"culture\", \"company\", \"change\", \"bonus\", \"great\", \"salary\", \"money\", \"look\", \"leadership\", \"manager\", \"many\", \"enough\", \"employee\", \"opportunity\", \"need\", \"want\", \"product\", \"benefit\", \"go\", \"management\", \"really\", \"low\", \"know\", \"even\", \"avon\", \"environment\", \"nice\", \"give\", \"lot\", \"pay\", \"hour\", \"get\", \"time\", \"jolly\", \"lay\", \"service\", \"forever\", \"enjoyable\", \"compress\", \"gold\", \"finish\", \"workplace\", \"personality\", \"teach\", \"jollibee\", \"accord\", \"skin\", \"storyland\", \"supermarket\", \"feci\", \"immediately\", \"cpa\", \"implementation\", \"franchised\", \"jollibe\", \"faith\", \"fluidity\", \"partly\", \"accounting\", \"habit\", \"moment\", \"reasonable\", \"common\", \"tired\", \"attitude\", \"crew\", \"saturday\", \"power\", \"encounter\", \"complaint\", \"customer\", \"establish\", \"always\", \"require\", \"enjoy\", \"far\", \"working\", \"serve\", \"busy\", \"day\", \"part\", \"time\", \"everything\", \"think\", \"keep\", \"learn\", \"food\", \"give\", \"shift\", \"fast\", \"love\", \"schedule\", \"hour\", \"management\", \"long\", \"experience\", \"manager\", \"people\", \"great\", \"environment\", \"company\", \"many\", \"family\", \"product\", \"training\", \"business\", \"hr\", \"client\", \"crazy\", \"practice\", \"monthly\", \"pretty\", \"r\", \"php\", \"fight\", \"push\", \"efficient\", \"shut\", \"mouth\", \"clock\", \"conference\", \"rarely\", \"input\", \"foster\", \"acquire\", \"coaching\", \"significant\", \"believe\", \"irate\", \"competitiveness\", \"ot\", \"normally\", \"biz\", \"scholarship\", \"frisk\", \"errand\", \"already\", \"short\", \"overtime\", \"would\", \"difficult\", \"get\", \"employee\", \"provide\", \"pay\", \"must\", \"study\", \"usually\", \"break\", \"unpaid\", \"job\", \"relationship\", \"internet\", \"hour\", \"learn\", \"night\", \"responsibility\", \"sale\", \"first\", \"well\", \"team\", \"position\", \"keep\", \"customer\", \"time\", \"lot\", \"manager\", \"people\", \"long\", \"really\", \"benefit\", \"know\", \"also\", \"company\", \"management\", \"training\", \"product\", \"experience\", \"give\", \"stone\", \"benifit\", \"cebuana\", \"stepping\", \"scmc\", \"abroad\", \"red\", \"tape\", \"cio\", \"pride\", \"arch\", \"secure\", \"golden\", \"feeling\", \"lhuilli\", \"ruin\", \"insurance\", \"technical\", \"pawnshop\", \"micro\", \"seed\", \"background\", \"yr\", \"dream\", \"sap\", \"cycle\", \"motivation\", \"shortage\", \"lean\", \"highly\", \"philippine\", \"pro\", \"retail\", \"development\", \"thank\", \"board\", \"event\", \"gain\", \"orient\", \"family\", \"help\", \"become\", \"career\", \"knowledge\", \"filipino\", \"corporation\", \"big\", \"managerial\", \"specially\", \"opportunity\", \"professionally\", \"company\", \"ground\", \"training\", \"colleague\", \"time\", \"also\", \"skill\", \"friendly\", \"salary\", \"much\", \"experience\", \"lot\", \"working\", \"come\", \"especially\", \"management\", \"environment\", \"employee\", \"need\", \"hour\", \"high\", \"great\", \"sale\", \"well\", \"job\", \"pay\", \"learn\", \"benefit\", \"long\", \"cancer\", \"season\", \"u\", \"turnaround\", \"split\", \"cure\", \"output\", \"joke\", \"deployment\", \"buck\", \"heavy\", \"meaning\", \"diverse\", \"hectic\", \"commensurate\", \"delay\", \"paper\", \"transformation\", \"perfume\", \"conflict\", \"criticize\", \"account\", \"lower\", \"trouble\", \"relieve\", \"beat\", \"front\", \"peer\", \"description\", \"rewarding\", \"dollar\", \"medical\", \"place\", \"benefit\", \"load\", \"franchise\", \"live\", \"minimal\", \"coworker\", \"corporate\", \"co\", \"advantage\", \"least\", \"perfect\", \"atmosphere\", \"fun\", \"individual\", \"business\", \"care\", \"worker\", \"politic\", \"allow\", \"lot\", \"employee\", \"great\", \"get\", \"environment\", \"back\", \"give\", \"management\", \"project\", \"company\", \"take\", \"office\", \"make\", \"staff\", \"avon\", \"hour\", \"job\", \"new\", \"manager\", \"customer\", \"time\", \"people\", \"product\", \"pay\", \"always\", \"sometimes\", \"need\"], \"Total\": [48.0, 71.0, 26.0, 152.0, 103.0, 71.0, 114.0, 44.0, 41.0, 44.0, 205.0, 46.0, 58.0, 31.0, 61.0, 50.0, 78.0, 50.0, 27.0, 49.0, 68.0, 19.0, 22.0, 77.0, 15.0, 85.0, 108.0, 71.0, 35.0, 61.0, 9.859780311584473, 8.052380561828613, 8.947694778442383, 8.944228172302246, 7.149483680725098, 6.2460455894470215, 6.245978355407715, 6.245831489562988, 6.245428562164307, 14.259827613830566, 6.244581699371338, 7.132330417633057, 5.34285306930542, 5.342790126800537, 5.342742919921875, 5.342720031738281, 5.342588424682617, 5.342538356781006, 5.342133522033691, 5.33975076675415, 61.38070297241211, 11.552117347717285, 5.337499141693115, 16.870079040527344, 9.758340835571289, 15.996006965637207, 4.439470291137695, 4.439469814300537, 4.439469814300537, 4.4392595291137695, 46.20502471923828, 33.553775787353516, 8.848018646240234, 9.716455459594727, 50.50640869140625, 148.89161682128906, 34.19122314453125, 74.44664001464844, 14.952194213867188, 36.48325729370117, 205.0437469482422, 43.40718460083008, 24.48647689819336, 108.24907684326172, 74.10929870605469, 27.94671630859375, 21.8859806060791, 24.313716888427734, 101.60636138916016, 46.587615966796875, 25.2911376953125, 152.24586486816406, 44.615081787109375, 61.556396484375, 40.62903594970703, 73.42906188964844, 103.90103149414062, 48.877750396728516, 102.16650390625, 42.08162307739258, 35.312862396240234, 43.616695404052734, 46.21113204956055, 41.11691665649414, 69.1323471069336, 41.163726806640625, 77.37245178222656, 78.47599792480469, 68.93352508544922, 85.30988311767578, 71.32575988769531, 114.42235565185547, 5.755342960357666, 4.935098648071289, 26.510841369628906, 4.112227439880371, 4.110223770141602, 3.2906694412231445, 3.290713310241699, 3.290903091430664, 6.550999641418457, 5.729321002960205, 7.400043964385986, 48.574249267578125, 2.469089984893799, 2.469089984893799, 2.469089984893799, 2.469090461730957, 2.4690897464752197, 2.469089984893799, 2.469089984893799, 2.4690897464752197, 2.4690897464752197, 2.4690897464752197, 2.469089984893799, 2.4690897464752197, 2.4690897464752197, 2.469089984893799, 2.4690895080566406, 2.469089984893799, 2.469089984893799, 2.4690921306610107, 8.198116302490234, 9.803827285766602, 31.19921875, 4.90762186050415, 6.533524513244629, 9.102255821228027, 4.903383255004883, 71.39642333984375, 4.904808044433594, 50.173583984375, 9.82044792175293, 15.932395935058594, 7.327057838439941, 19.49357032775879, 9.325699806213379, 6.554282188415527, 49.296905517578125, 25.358985900878906, 114.42235565185547, 14.7076997756958, 24.823537826538086, 50.689510345458984, 58.489898681640625, 39.56387710571289, 77.37245178222656, 20.92578887939453, 26.032297134399414, 23.6012020111084, 33.48600387573242, 85.30988311767578, 102.16650390625, 54.4438362121582, 54.28243637084961, 101.60636138916016, 148.89161682128906, 108.24907684326172, 69.1323471069336, 205.0437469482422, 46.587615966796875, 44.658531188964844, 73.42906188964844, 61.135765075683594, 44.97045135498047, 4.071631908416748, 8.923340797424316, 3.2604689598083496, 3.2604691982269287, 3.2604968547821045, 3.2604382038116455, 6.598134994506836, 2.4489564895629883, 2.448956251144409, 2.448956251144409, 2.4489564895629883, 2.4489586353302, 2.4489586353302, 2.448984384536743, 2.4490535259246826, 2.4490532875061035, 2.448936700820923, 2.448936939239502, 2.4489731788635254, 2.449035882949829, 2.448953628540039, 2.4489808082580566, 2.4490456581115723, 2.4488518238067627, 2.448878049850464, 2.449744701385498, 2.4497530460357666, 2.4497647285461426, 2.4487695693969727, 2.4500653743743896, 5.68491268157959, 7.3381171226501465, 19.779870986938477, 18.22992706298828, 11.018998146057129, 71.32575988769531, 152.24586486816406, 23.799034118652344, 68.93352508544922, 20.6706600189209, 14.629109382629395, 5.878518581390381, 7.6044230461120605, 4.05811882019043, 71.17902374267578, 12.61400032043457, 4.162794589996338, 85.30988311767578, 58.489898681640625, 4.166466236114502, 10.995184898376465, 35.303955078125, 14.818591117858887, 47.291259765625, 36.355255126953125, 20.617252349853516, 50.689510345458984, 71.39642333984375, 114.42235565185547, 78.47599792480469, 101.60636138916016, 148.89161682128906, 54.4438362121582, 42.08162307739258, 103.90103149414062, 43.616695404052734, 40.660518646240234, 205.0437469482422, 102.16650390625, 61.135765075683594, 73.42906188964844, 54.28243637084961, 77.37245178222656, 4.814754962921143, 4.816940784454346, 4.016879081726074, 4.017022609710693, 3.2191381454467773, 3.219147205352783, 3.2192671298980713, 3.2192671298980713, 2.4214015007019043, 2.4214017391204834, 2.4214015007019043, 2.4214015007019043, 2.4214017391204834, 2.4214015007019043, 2.4214015007019043, 2.4214015007019043, 2.4214015007019043, 2.42142653465271, 2.421416759490967, 2.421558380126953, 2.4214401245117188, 2.4215848445892334, 2.421541452407837, 2.42146372795105, 2.4215025901794434, 2.421391487121582, 2.421602249145508, 2.4214882850646973, 2.422165632247925, 2.421529769897461, 8.047210693359375, 4.8387675285339355, 15.61461353302002, 11.357867240905762, 4.931580066680908, 6.621144771575928, 6.451132774353027, 8.230524063110352, 8.161792755126953, 44.658531188964844, 41.2501220703125, 13.307430267333984, 27.08527374267578, 18.989694595336914, 7.524563312530518, 5.715482711791992, 19.08928871154785, 4.014880180358887, 7.539968490600586, 44.615081787109375, 4.017953872680664, 205.0437469482422, 10.848287582397461, 61.135765075683594, 12.673096656799316, 114.42235565185547, 40.660518646240234, 19.53244972229004, 24.516544342041016, 74.10929870605469, 40.389251708984375, 54.28243637084961, 78.47599792480469, 19.49357032775879, 23.86333465576172, 18.457887649536133, 102.16650390625, 69.1323471069336, 152.24586486816406, 61.556396484375, 85.30988311767578, 25.415355682373047, 108.24907684326172, 35.303955078125, 47.291259765625, 71.17902374267578, 68.93352508544922, 58.489898681640625, 103.90103149414062, 54.4438362121582, 4.803130626678467, 4.007711410522461, 3.2123212814331055, 3.2123615741729736, 3.212435245513916, 2.416810989379883, 2.4168107509613037, 2.416810989379883, 2.4168107509613037, 2.416811466217041, 2.416810989379883, 2.416843891143799, 2.41686749458313, 2.416840076446533, 2.4168343544006348, 2.416869640350342, 2.416931629180908, 2.4169881343841553, 2.417067527770996, 2.416884660720825, 2.4168856143951416, 2.4168860912323, 2.416884422302246, 2.41688871383667, 2.416945219039917, 2.416917324066162, 4.821891784667969, 2.421445846557617, 4.032320499420166, 4.010364055633545, 4.010056495666504, 5.63070011138916, 22.11908721923828, 103.90103149414062, 9.037875175476074, 5.722306251525879, 4.034024238586426, 4.024308204650879, 7.532898902893066, 9.262310981750488, 28.725189208984375, 4.11553955078125, 4.115584850311279, 4.115622043609619, 4.11566686630249, 29.40796661376953, 4.120782375335693, 44.97045135498047, 14.175887107849121, 33.71826934814453, 15.282373428344727, 6.635925769805908, 78.47599792480469, 152.24586486816406, 108.24907684326172, 71.32575988769531, 69.1323471069336, 20.40424919128418, 77.37245178222656, 102.16650390625, 9.82828140258789, 205.0437469482422, 34.75658416748047, 20.589826583862305, 74.44664001464844, 20.410797119140625, 41.11691665649414, 85.30988311767578, 71.17902374267578, 50.50640869140625, 101.60636138916016, 71.39642333984375, 114.42235565185547, 148.89161682128906, 73.42906188964844, 68.93352508544922, 50.173583984375, 37.54558563232422, 61.556396484375], \"loglift\": [30.0, 29.0, 28.0, 27.0, 26.0, 25.0, 24.0, 23.0, 22.0, 21.0, 20.0, 19.0, 18.0, 17.0, 16.0, 15.0, 14.0, 13.0, 12.0, 11.0, 10.0, 9.0, 8.0, 7.0, 6.0, 5.0, 4.0, 3.0, 2.0, 1.0, 0.8495000004768372, 0.8330000042915344, 0.8317999839782715, 0.8313999772071838, 0.8223999738693237, 0.8077999949455261, 0.8077999949455261, 0.8073999881744385, 0.8066999912261963, 0.8054999709129333, 0.8054999709129333, 0.7955999970436096, 0.7885000109672546, 0.7882999777793884, 0.7882999777793884, 0.7882000207901001, 0.7879999876022339, 0.7879999876022339, 0.7871999740600586, 0.7824000120162964, 0.7784000039100647, 0.7774999737739563, 0.7768999934196472, 0.774399995803833, 0.7631000280380249, 0.7623000144958496, 0.7601000070571899, 0.7601000070571899, 0.7601000070571899, 0.7597000002861023, 0.7597000002861023, 0.7160000205039978, 0.7389000058174133, 0.7228000164031982, 0.5629000067710876, 0.4390999972820282, 0.5870000123977661, 0.48030000925064087, 0.6690999865531921, 0.5396000146865845, 0.2919999957084656, 0.4966000020503998, 0.57669997215271, 0.3637999892234802, 0.4138999879360199, 0.5379999876022339, 0.5745999813079834, 0.5292999744415283, 0.22100000083446503, 0.3716999888420105, 0.505299985408783, 0.08900000154972076, 0.37380000948905945, 0.2793999910354614, 0.39089998602867126, 0.23080000281333923, 0.12600000202655792, 0.2915000021457672, 0.0348999984562397, 0.33250001072883606, 0.39149999618530273, 0.29330000281333923, 0.2538999915122986, 0.2969000041484833, 0.019500000402331352, 0.27720001339912415, -0.12030000239610672, -0.16449999809265137, -0.07519999891519547, -0.24799999594688416, -0.1356000006198883, -0.590499997138977, 1.6527999639511108, 1.6277999877929688, 1.623900055885315, 1.5995999574661255, 1.5820000171661377, 1.5509999990463257, 1.5506999492645264, 1.5499000549316406, 1.523900032043457, 1.482300043106079, 1.4717999696731567, 1.469599962234497, 1.4636000394821167, 1.4636000394821167, 1.4636000394821167, 1.4636000394821167, 1.4636000394821167, 1.4636000394821167, 1.4636000394821167, 1.4636000394821167, 1.4636000394821167, 1.4636000394821167, 1.4636000394821167, 1.4636000394821167, 1.4636000394821167, 1.4636000394821167, 1.4636000394821167, 1.4636000394821167, 1.4636000394821167, 1.4636000394821167, 1.422700047492981, 1.3818000555038452, 1.3047000169754028, 1.4221999645233154, 1.3833999633789062, 1.3319000005722046, 1.3830000162124634, 1.0406999588012695, 1.375499963760376, 1.0085999965667725, 1.253999948501587, 1.170799970626831, 1.2841999530792236, 1.1088000535964966, 1.2360999584197998, 1.2973999977111816, 0.9337999820709229, 1.0015000104904175, 0.6541000008583069, 1.1045000553131104, 0.9671000242233276, 0.7806000113487244, 0.7264000177383423, 0.7831000089645386, 0.5533000230789185, 0.9710000157356262, 0.8238999843597412, 0.8202000260353088, 0.6365000009536743, 0.17790000140666962, 0.09080000221729279, 0.37209999561309814, 0.335999995470047, -0.012000000104308128, -0.23909999430179596, -0.12870000302791595, 0.1340000033378601, -0.5680999755859375, 0.3474000096321106, 0.33660000562667847, -0.015399999916553497, 0.1071000024676323, 0.2117999941110611, 1.694200038909912, 1.6680999994277954, 1.6509000062942505, 1.6509000062942505, 1.6505000591278076, 1.6503000259399414, 1.607100009918213, 1.562399983406067, 1.562399983406067, 1.562399983406067, 1.562399983406067, 1.5622999668121338, 1.5622999668121338, 1.5622999668121338, 1.561900019645691, 1.561900019645691, 1.5616999864578247, 1.5616999864578247, 1.5616999864578247, 1.5613000392913818, 1.5608999729156494, 1.5608999729156494, 1.5605000257492065, 1.559000015258789, 1.5582000017166138, 1.557800054550171, 1.557800054550171, 1.5577000379562378, 1.5571999549865723, 1.5561000108718872, 1.5252000093460083, 1.5008000135421753, 1.1740000247955322, 1.1507999897003174, 1.2421000003814697, 0.8348000049591064, 0.5971999764442444, 1.024399995803833, 0.7465999722480774, 1.0260000228881836, 1.107100009918213, 1.3339999914169312, 1.2662999629974365, 1.4301999807357788, 0.6266000270843506, 1.1093000173568726, 1.4078999757766724, 0.48170000314712524, 0.5831000208854675, 1.3961000442504883, 1.0855000019073486, 0.6927000284194946, 0.9751999974250793, 0.5781999826431274, 0.6287999749183655, 0.8216999769210815, 0.47920000553131104, 0.2915000021457672, 0.06780000030994415, 0.20749999582767487, 0.08699999749660492, -0.12999999523162842, 0.3052999973297119, 0.4124000072479248, -0.1145000010728836, 0.3483999967575073, 0.38589999079704285, -0.7833999991416931, -0.33090001344680786, 0.03290000185370445, -0.1177000030875206, 0.09740000218153, -0.27709999680519104, 1.8001999855041504, 1.7822999954223633, 1.7688000202178955, 1.767199993133545, 1.718400001525879, 1.7181999683380127, 1.717900037765503, 1.717900037765503, 1.6283999681472778, 1.6283999681472778, 1.6283999681472778, 1.6283999681472778, 1.6283999681472778, 1.6283999681472778, 1.6283999681472778, 1.6283999681472778, 1.6283999681472778, 1.6279000043869019, 1.6279000043869019, 1.6276999711990356, 1.6276999711990356, 1.6275999546051025, 1.6269999742507935, 1.6268999576568604, 1.6265000104904175, 1.6263999938964844, 1.625599980354309, 1.625499963760376, 1.6247999668121338, 1.6240999698638916, 1.5964000225067139, 1.5819000005722046, 1.468500018119812, 1.4326000213623047, 1.5361000299453735, 1.4831000566482544, 1.485200047492981, 1.4414000511169434, 1.4283000230789185, 1.139299988746643, 1.1359000205993652, 1.3128000497817993, 1.059399962425232, 1.1409000158309937, 1.3552000522613525, 1.4156999588012695, 1.0801000595092773, 1.4961999654769897, 1.3241000175476074, 0.8270999789237976, 1.4842000007629395, 0.33149999380111694, 1.1657999753952026, 0.5931000113487244, 1.113800048828125, 0.3635999858379364, 0.6996999979019165, 0.9570000171661377, 0.8611000180244446, 0.38179999589920044, 0.6292999982833862, 0.4952000081539154, 0.328900009393692, 0.9275000095367432, 0.8248000144958496, 0.9318000078201294, -0.02019999921321869, 0.02879999950528145, -0.5195000171661377, 0.03790000081062317, -0.1987999975681305, 0.6395999789237976, -0.4027999937534332, 0.3995000123977661, 0.1485999971628189, -0.19200000166893005, -0.1738000065088272, -0.07720000296831131, -0.6944000124931335, -0.06239999830722809, 1.8463000059127808, 1.813099980354309, 1.7628999948501587, 1.7626999616622925, 1.7608000040054321, 1.6728999614715576, 1.6728999614715576, 1.6728999614715576, 1.6728999614715576, 1.6728999614715576, 1.6728999614715576, 1.6727999448776245, 1.672700047492981, 1.6723999977111816, 1.6723999977111816, 1.6723999977111816, 1.6723999977111816, 1.6720999479293823, 1.6717000007629395, 1.6715999841690063, 1.6715999841690063, 1.6715999841690063, 1.6713000535964966, 1.6713000535964966, 1.6705000400543213, 1.6516000032424927, 1.6054999828338623, 1.5931999683380127, 1.5549999475479126, 1.5418000221252441, 1.541100025177002, 1.4737999439239502, 1.1921000480651855, 0.7896000146865845, 1.3451000452041626, 1.4586000442504883, 1.5355000495910645, 1.5358999967575073, 1.3598999977111816, 1.284600019454956, 0.951200008392334, 1.5154000520706177, 1.5153000354766846, 1.5148999691009521, 1.514799952507019, 0.8431000113487244, 1.4955999851226807, 0.6607999801635742, 1.0568000078201294, 0.7421000003814697, 1.0156999826431274, 1.309999942779541, 0.38499999046325684, 0.10000000149011612, 0.16689999401569366, 0.33629998564720154, 0.33799999952316284, 0.8492000102996826, 0.2554999887943268, 0.10849999636411667, 1.131700038909912, -0.2978000044822693, 0.5343000292778015, 0.7699999809265137, 0.0575999990105629, 0.7519000172615051, 0.326200008392334, -0.10989999771118164, -0.03539999946951866, 0.13079999387264252, -0.320499986410141, -0.1136000007390976, -0.4742000102996826, -0.6722999811172485, -0.1784999966621399, -0.3001999855041504, -0.0731000006198883, 0.18799999356269836, -0.3012999892234802], \"logprob\": [30.0, 29.0, 28.0, 27.0, 26.0, 25.0, 24.0, 23.0, 22.0, 21.0, 20.0, 19.0, 18.0, 17.0, 16.0, 15.0, 14.0, 13.0, 12.0, 11.0, 10.0, 9.0, 8.0, 7.0, 6.0, 5.0, 4.0, 3.0, 2.0, 1.0, -6.27269983291626, -6.491700172424316, -6.387499809265137, -6.388199806213379, -6.621200084686279, -6.770899772644043, -6.770899772644043, -6.771299839019775, -6.77209997177124, -5.947700023651123, -6.773399829864502, -6.650400161743164, -6.946400165557861, -6.946599960327148, -6.946599960327148, -6.946700096130371, -6.946899890899658, -6.947000026702881, -6.94789981842041, -6.953100204467773, -4.515200138092041, -6.186299800872803, -6.959000110626221, -5.810800075531006, -6.369500160217285, -5.876100063323975, -7.159999847412109, -7.159999847412109, -7.159999847412109, -7.1605000495910645, -4.81790018081665, -5.181600093841553, -6.491600036621094, -6.414000034332275, -4.925600051879883, -3.9683001041412354, -5.291600227355957, -4.620299816131592, -6.0366997718811035, -5.274199962615967, -3.7955000400543213, -5.143400192260742, -5.635799884796143, -4.362400054931641, -4.691199779510498, -5.542300224304199, -5.750199794769287, -5.690299987792969, -4.56850004196167, -5.1975998878479, -5.674900054931641, -4.296199798583984, -5.238800048828125, -5.011300086975098, -5.315299987792969, -4.883500099182129, -4.641200065612793, -5.229899883270264, -4.749100208282471, -5.338600158691406, -5.454899787902832, -5.3420000076293945, -5.323500156402588, -5.397299766540527, -5.155099868774414, -5.415900230407715, -5.182300090789795, -5.212399959564209, -5.252699851989746, -5.212399959564209, -5.2789998054504395, -5.261199951171875, -6.007800102233887, -6.186500072479248, -4.509200096130371, -6.39709997177124, -6.415200233459473, -6.668499946594238, -6.668900012969971, -6.669600009918213, -6.007199764251709, -6.182799816131592, -5.937399864196777, -4.0578999519348145, -7.0432000160217285, -7.0432000160217285, -7.0432000160217285, -7.0432000160217285, -7.0432000160217285, -7.0432000160217285, -7.0432000160217285, -7.0432000160217285, -7.0432000160217285, -7.0432000160217285, -7.0432000160217285, -7.0432000160217285, -7.0432000160217285, -7.0432000160217285, -7.0432000160217285, -7.0432000160217285, -7.0432000160217285, -7.0432000160217285, -5.884099960327148, -5.746099948883057, -4.665599822998047, -6.39769983291626, -6.150300025939941, -5.870299816131592, -6.437699794769287, -4.1016998291015625, -6.444900035858154, -4.486599922180176, -5.872200012207031, -5.471499919891357, -6.134799957275391, -5.3317999839782715, -5.941800117492676, -6.233099937438965, -4.578999996185303, -5.17609977722168, -4.016600131988525, -5.617800235748291, -5.2316999435424805, -4.704400062561035, -4.6153998374938965, -4.949699878692627, -4.508699893951416, -5.39870023727417, -5.327400207519531, -5.429200172424316, -5.2631001472473145, -4.786499977111816, -4.693299770355225, -5.041399955749512, -5.08050012588501, -4.801599979400635, -4.646500110626221, -4.854899883270264, -5.0406999588012695, -4.6554999351501465, -5.22189998626709, -5.275000095367432, -5.129700183868408, -5.190400123596191, -5.392899990081787, -6.312399864196777, -5.553899765014648, -6.577899932861328, -6.577899932861328, -6.5782999992370605, -6.578499794006348, -5.916800022125244, -6.952600002288818, -6.952600002288818, -6.952600002288818, -6.952600002288818, -6.952700138092041, -6.952700138092041, -6.952700138092041, -6.953100204467773, -6.953100204467773, -6.9532999992370605, -6.9532999992370605, -6.9532999992370605, -6.95359992980957, -6.954100131988525, -6.954100131988525, -6.954400062561035, -6.955999851226807, -6.9567999839782715, -6.956900119781494, -6.956900119781494, -6.956999778747559, -6.957900047302246, -6.958499908447266, -6.14769983291626, -5.916800022125244, -5.251999855041504, -5.356800079345703, -5.768899917602539, -4.308599948883057, -3.787899971008301, -5.216599941253662, -4.4309000968933105, -5.355899810791016, -5.620500087738037, -6.305300235748291, -6.115600109100342, -6.579800128936768, -4.518899917602539, -5.766600131988525, -6.576600074768066, -4.482600212097168, -4.758699893951416, -6.587500095367432, -5.927700042724609, -5.1539998054504395, -5.73960018157959, -4.976099967956543, -5.188499927520752, -5.56279993057251, -5.00570011138916, -4.850900173187256, -4.60290002822876, -4.8403000831604, -4.702600002288818, -4.537399768829346, -5.1082000732421875, -5.258699893951416, -4.881700038909912, -5.286900043487549, -5.319499969482422, -4.870800018310547, -5.1149001121521, -5.264599800109863, -5.232100009918213, -5.318999767303467, -5.339099884033203, -6.03879976272583, -6.05620002746582, -6.251399993896484, -6.252900123596191, -6.523200035095215, -6.5233001708984375, -6.523600101470947, -6.523600101470947, -6.897900104522705, -6.897900104522705, -6.897900104522705, -6.897900104522705, -6.897900104522705, -6.897900104522705, -6.897900104522705, -6.897900104522705, -6.897900104522705, -6.898399829864502, -6.898399829864502, -6.898600101470947, -6.898600101470947, -6.89870023727417, -6.8993000984191895, -6.899400234222412, -6.899799823760986, -6.900000095367432, -6.900700092315674, -6.900700092315674, -6.901199817657471, -6.902100086212158, -5.728899955749512, -6.252099990844727, -5.193999767303467, -5.5482001304626465, -6.278900146484375, -6.037300109863281, -6.061299800872803, -5.861400127410889, -5.882900238037109, -4.472300052642822, -4.555099964141846, -5.5096001625061035, -5.052299976348877, -5.325900077819824, -6.037300109863281, -6.251800060272217, -5.381400108337402, -6.524400234222412, -6.066299915313721, -4.7855000495910645, -6.535699844360352, -3.7558999061584473, -5.860899925231934, -4.704500198364258, -5.757400035858154, -4.307199954986572, -5.00570011138916, -5.481599807739258, -5.350200176239014, -4.723299980163574, -5.082799911499023, -4.921199798583984, -4.718999862670898, -5.5131001472473145, -5.41349983215332, -5.563399791717529, -4.804200172424316, -5.145899772644043, -4.904699802398682, -5.252799987792969, -5.1631999015808105, -5.535699844360352, -5.1290998458862305, -5.447199821472168, -5.405799865722656, -5.337500095367432, -5.351399898529053, -5.419000148773193, -5.461599826812744, -5.475800037384033, -5.995100021362305, -6.2093000411987305, -6.480800151824951, -6.480899810791016, -6.482800006866455, -6.855299949645996, -6.855299949645996, -6.855299949645996, -6.855299949645996, -6.855299949645996, -6.855299949645996, -6.855400085449219, -6.855500221252441, -6.855800151824951, -6.855800151824951, -6.855800151824951, -6.855800151824951, -6.855999946594238, -6.856400012969971, -6.856599807739258, -6.856599807739258, -6.856599807739258, -6.856800079345703, -6.856900215148926, -6.857600212097168, -6.876500129699707, -6.23199987411499, -6.93310022354126, -6.461400032043457, -6.480000019073486, -6.4807000160217285, -6.208600044250488, -5.122099876403809, -3.97760009765625, -5.864099979400635, -6.207699775695801, -6.480400085449219, -6.482399940490723, -6.031400203704834, -5.900100231170654, -5.1016998291015625, -6.480500221252441, -6.480599880218506, -6.480999946594238, -6.481100082397461, -5.186299800872803, -6.499000072479248, -4.943900108337402, -5.702400207519531, -5.1504998207092285, -5.6682000160217285, -6.208199977874756, -4.662899971008301, -4.285099983215332, -4.559299945831299, -4.80709981918335, -4.836599826812744, -5.5457000732421875, -4.80649995803833, -4.67549991607666, -5.99370002746582, -4.385200023651123, -5.328000068664551, -5.615900039672852, -5.042900085449219, -5.6427001953125, -5.368100166320801, -5.0742998123168945, -5.1809000968933105, -5.357800006866455, -5.110099792480469, -5.25600004196167, -5.144899845123291, -5.079800128936768, -5.292799949645996, -5.477700233459473, -5.568299770355225, -5.597099781036377, -5.5920000076293945]}, \"token.table\": {\"Topic\": [4, 2, 5, 2, 3, 1, 1, 1, 5, 1, 2, 5, 3, 5, 1, 2, 3, 4, 5, 1, 2, 3, 4, 5, 4, 1, 5, 2, 3, 4, 1, 2, 3, 4, 5, 1, 3, 5, 4, 1, 3, 5, 1, 3, 4, 3, 1, 2, 3, 4, 5, 4, 1, 3, 4, 5, 3, 1, 4, 1, 2, 4, 5, 1, 3, 5, 1, 2, 3, 4, 5, 2, 3, 5, 1, 2, 3, 5, 1, 3, 4, 4, 1, 2, 4, 5, 1, 1, 4, 3, 4, 3, 1, 2, 3, 4, 5, 3, 1, 2, 4, 1, 3, 4, 5, 5, 2, 1, 2, 3, 4, 5, 3, 2, 5, 2, 3, 5, 1, 5, 1, 5, 1, 4, 5, 1, 5, 2, 3, 1, 2, 3, 4, 5, 5, 1, 2, 4, 5, 5, 1, 2, 3, 5, 4, 1, 2, 3, 4, 5, 1, 5, 1, 5, 5, 2, 5, 1, 2, 3, 4, 1, 3, 5, 1, 4, 5, 4, 1, 3, 1, 2, 3, 4, 5, 1, 2, 3, 1, 2, 3, 2, 1, 2, 3, 4, 1, 2, 3, 4, 5, 3, 1, 3, 4, 5, 2, 4, 1, 2, 3, 4, 5, 2, 3, 4, 1, 2, 4, 5, 1, 5, 1, 2, 3, 4, 5, 2, 1, 2, 4, 5, 2, 5, 1, 2, 3, 4, 5, 2, 4, 1, 5, 3, 1, 4, 2, 1, 3, 4, 5, 2, 1, 2, 3, 4, 5, 2, 3, 1, 3, 5, 2, 1, 2, 4, 3, 3, 5, 1, 2, 3, 4, 5, 1, 3, 4, 1, 2, 3, 5, 1, 2, 3, 4, 5, 1, 2, 3, 4, 5, 2, 4, 1, 2, 3, 4, 5, 1, 3, 4, 1, 1, 3, 4, 5, 2, 5, 5, 1, 2, 4, 5, 1, 3, 4, 5, 4, 1, 2, 3, 4, 5, 3, 2, 2, 1, 5, 3, 4, 1, 3, 3, 1, 2, 3, 4, 5, 5, 2, 1, 2, 3, 4, 5, 2, 1, 2, 3, 4, 5, 1, 2, 3, 4, 5, 1, 2, 3, 4, 2, 1, 3, 4, 5, 4, 1, 2, 3, 4, 5, 1, 5, 4, 1, 3, 4, 5, 2, 5, 1, 3, 5, 1, 2, 3, 4, 5, 1, 2, 3, 1, 2, 3, 4, 5, 1, 2, 3, 5, 1, 2, 3, 4, 5, 1, 2, 3, 4, 5, 1, 2, 3, 4, 5, 1, 2, 3, 4, 5, 4, 5, 1, 2, 3, 4, 5, 1, 1, 5, 3, 5, 1, 3, 4, 3, 5, 2, 1, 2, 3, 3, 4, 3, 1, 1, 2, 3, 4, 5, 1, 2, 3, 5, 1, 2, 3, 4, 5, 1, 2, 3, 4, 5, 1, 2, 3, 5, 1, 3, 3, 1, 2, 3, 4, 5, 1, 2, 3, 4, 1, 2, 4, 3, 5, 1, 2, 3, 4, 5, 1, 2, 3, 4, 2, 4, 1, 2, 3, 4, 5, 5, 1, 2, 3, 4, 5, 1, 5, 5, 1, 5, 2, 5, 2, 3, 4, 3, 1, 2, 3, 4, 5, 1, 1, 4, 5, 1, 2, 3, 2, 4, 3, 3, 4, 2, 4, 1, 2, 3, 4, 5, 4, 5, 1, 3, 4, 5, 1, 2, 5, 1, 2, 3, 4, 5, 3, 1, 3, 3, 1, 2, 3, 5, 2, 1, 4, 1, 3, 5, 5, 1, 2, 3, 5, 2, 3, 1, 1, 3, 4, 1, 4, 5, 4, 5, 1, 5, 4, 1, 2, 3, 4, 5, 1, 3, 4, 5, 4, 2, 5, 1, 1, 2, 3, 4, 5, 3, 4, 5, 4, 1, 4, 1, 1, 1, 2, 1, 2, 3, 1, 1, 2, 3, 4, 2, 3, 4, 3, 3, 1, 2, 3, 4, 5, 2, 1, 1, 2, 3, 4, 5, 1, 4, 5, 1, 2, 4, 5, 4, 4, 2, 2, 3, 4, 2, 1, 2, 3, 4, 5, 4, 2, 3, 1, 2, 3, 5, 4, 1, 4, 1, 1, 2, 3, 4, 5, 1, 2, 3, 4, 5, 2, 3, 1, 1, 2, 3, 4, 5, 5, 5, 5, 5, 3, 4, 1, 3, 1, 2, 3, 4, 5, 1, 2, 3, 4, 5, 1, 1, 1, 2, 3, 4, 5, 2, 3, 4, 2, 5, 1, 2, 3, 4, 4], \"Freq\": [0.9319238066673279, 0.8100150227546692, 0.8275110721588135, 0.8100150227546692, 0.8166688084602356, 0.9010084867477417, 0.9363732933998108, 0.24298150837421417, 0.7289445400238037, 0.30138975381851196, 0.15069487690925598, 0.45208463072776794, 0.7036167979240417, 0.17590419948101044, 0.2705326974391937, 0.09837552905082703, 0.2213449329137802, 0.2951265871524811, 0.12296941131353378, 0.27903130650520325, 0.45840856432914734, 0.0597924180328846, 0.07972322404384613, 0.1195848360657692, 0.8259679079055786, 0.24297398328781128, 0.7289219498634338, 0.7140068411827087, 0.10200098156929016, 0.20400196313858032, 0.5350595712661743, 0.17024622857570648, 0.0729626715183258, 0.02432088926434517, 0.19456711411476135, 0.49009400606155396, 0.14702819287776947, 0.29405638575553894, 0.8259053826332092, 0.8440640568733215, 0.12985600531101227, 0.8275004029273987, 0.30058395862579346, 0.15029197931289673, 0.5260218977928162, 0.8166662454605103, 0.4523535370826721, 0.0384981743991375, 0.1347436159849167, 0.06737180799245834, 0.2983608543872833, 0.8304025530815125, 0.3143123984336853, 0.10477079451084137, 0.4190831780433655, 0.15715619921684265, 0.8164088129997253, 0.3020625710487366, 0.6041251420974731, 0.6942607760429382, 0.16335546970367432, 0.08167773485183716, 0.04083886742591858, 0.3945072591304779, 0.5260096788406372, 0.8275366425514221, 0.2890787124633789, 0.20013141632080078, 0.1334209442138672, 0.11118412017822266, 0.2668418884277344, 0.6102880239486694, 0.3051440119743347, 0.832790195941925, 0.35271161794662476, 0.14108464121818542, 0.14108464121818542, 0.4232539236545563, 0.4799656271934509, 0.07384086400270462, 0.4061247408390045, 0.746848464012146, 0.6680921912193298, 0.1612636297941208, 0.09215064346790314, 0.09215064346790314, 0.9606077671051025, 0.9010083675384521, 0.8259679079055786, 0.7844595313072205, 0.11206565052270889, 0.8166650533676147, 0.17406325042247772, 0.13925060629844666, 0.17406325042247772, 0.13925060629844666, 0.34812650084495544, 0.8166478872299194, 0.473443865776062, 0.078907310962677, 0.394536554813385, 0.5447688102722168, 0.08381058275699615, 0.3352423310279846, 0.04190529137849808, 0.8275287747383118, 0.8100143074989319, 0.536470890045166, 0.09754016250371933, 0.06827811151742935, 0.19995732605457306, 0.10241717100143433, 0.8167092800140381, 0.6118224859237671, 0.20394082367420197, 0.911668598651886, 0.8166419863700867, 0.8275115489959717, 0.8233455419540405, 0.10291819274425507, 0.4318576753139496, 0.5398221015930176, 0.1749633550643921, 0.5248900651931763, 0.1749633550643921, 0.39825305342674255, 0.5310040712356567, 0.8100150227546692, 0.9201130270957947, 0.06410416960716248, 0.6089895963668823, 0.09615625441074371, 0.06410416960716248, 0.12820833921432495, 0.8275112509727478, 0.6852458119392395, 0.05481966584920883, 0.1918688267469406, 0.08222950249910355, 0.8275367617607117, 0.18208195269107819, 0.47621431946754456, 0.21009455621242523, 0.1260567307472229, 0.8259713649749756, 0.263708233833313, 0.4259902238845825, 0.16228199005126953, 0.08114099502563477, 0.060855746269226074, 0.9116519689559937, 0.07012707740068436, 0.8940850496292114, 0.8275166749954224, 0.8275368809700012, 0.24799616634845734, 0.7439884543418884, 0.08804469555616379, 0.17608939111232758, 0.08804469555616379, 0.6163129210472107, 0.4537617564201355, 0.5445141196250916, 0.8275174498558044, 0.9127992391586304, 0.24937304854393005, 0.7481191158294678, 0.8259466886520386, 0.8944315910339355, 0.8166743516921997, 0.44007763266563416, 0.052546583116054535, 0.27586954832077026, 0.0853881984949112, 0.1510714292526245, 0.10986287891864777, 0.6591772437095642, 0.21972575783729553, 0.2510607838630676, 0.5648868083953857, 0.18829560279846191, 0.7298872470855713, 0.6721721887588501, 0.23723724484443665, 0.03953954204916954, 0.03953954204916954, 0.40502023696899414, 0.18804511427879333, 0.057860035449266434, 0.14465008676052094, 0.18804511427879333, 0.8163047432899475, 0.43341904878616333, 0.054177381098270416, 0.3792416751384735, 0.16253213584423065, 0.6116447448730469, 0.20388157665729523, 0.5193553566932678, 0.19475826621055603, 0.15147864818572998, 0.04327961429953575, 0.10819903761148453, 0.15501153469085693, 0.15501153469085693, 0.6200461387634277, 0.06799159944057465, 0.5439327955245972, 0.1359831988811493, 0.2719663977622986, 0.8656421899795532, 0.08656422048807144, 0.29475465416908264, 0.2394881397485733, 0.16579948365688324, 0.2394881397485733, 0.055266495794057846, 0.8100150227546692, 0.24631351232528687, 0.24631351232528687, 0.4478427767753601, 0.06717641651630402, 0.5459217429161072, 0.2729608714580536, 0.3073105812072754, 0.38413819670677185, 0.19206909835338593, 0.07682764530181885, 0.038413822650909424, 0.810015082359314, 0.8259679079055786, 0.8891481757164001, 0.11855308711528778, 0.8166744709014893, 0.39869424700737, 0.5315923094749451, 0.9116038680076599, 0.20244839787483215, 0.4048967957496643, 0.20244839787483215, 0.20244839787483215, 0.810015082359314, 0.3285825550556183, 0.3791337311267853, 0.1263779103755951, 0.0505511611700058, 0.1011023223400116, 0.7295316457748413, 0.816680908203125, 0.17475470900535583, 0.17475470900535583, 0.5242641568183899, 0.810015082359314, 0.4078878164291382, 0.2039439082145691, 0.32631024718284607, 0.8167366981506348, 0.20738747715950012, 0.6221624612808228, 0.1360175609588623, 0.20402634143829346, 0.1360175609588623, 0.20402634143829346, 0.3060395121574402, 0.2429978996515274, 0.1214989498257637, 0.6074947118759155, 0.3505045175552368, 0.11216144263744354, 0.3505045175552368, 0.1962825208902359, 0.34896141290664673, 0.29726341366767883, 0.11632046848535538, 0.06462248414754868, 0.18094295263290405, 0.5319393873214722, 0.18413285911083221, 0.14321444928646088, 0.040918413549661636, 0.10229603201150894, 0.9116564393043518, 0.8259678483009338, 0.5727531313896179, 0.1478072702884674, 0.018475908786058426, 0.09237954020500183, 0.15704521536827087, 0.36872178316116333, 0.18436089158058167, 0.46090224385261536, 0.9790917038917542, 0.8046784400939941, 0.059605810791254044, 0.08940871804952621, 0.029802905395627022, 0.8100152015686035, 0.8275367617607117, 0.8275268077850342, 0.41211998462677, 0.09696941077709198, 0.4363623559474945, 0.024242352694272995, 0.47215551137924194, 0.07869258522987366, 0.2754240334033966, 0.15738517045974731, 0.8259241580963135, 0.3164932131767273, 0.1992735117673874, 0.24616140127182007, 0.1172197163105011, 0.1172197163105011, 0.7368053197860718, 0.8100150227546692, 0.810015082359314, 0.2426723688840866, 0.4853447377681732, 0.8166809678077698, 0.8259679079055786, 0.2402232438325882, 0.7206697463989258, 0.8166446089744568, 0.33717799186706543, 0.12644174695014954, 0.2809816598892212, 0.11239266395568848, 0.12644174695014954, 0.8275367617607117, 0.810015082359314, 0.08234816044569016, 0.741133451461792, 0.06176111847162247, 0.06176111847162247, 0.04117408022284508, 0.868757963180542, 0.21700742840766907, 0.3748309910297394, 0.25646331906318665, 0.11836768686771393, 0.03945589438080788, 0.5273210406303406, 0.045854002237319946, 0.20634301006793976, 0.06878100335597992, 0.13756200671195984, 0.2106405645608902, 0.15798042714595795, 0.15798042714595795, 0.4212811291217804, 0.8105207681655884, 0.6580647230148315, 0.12338714301586151, 0.08225809037685394, 0.12338714301586151, 0.8257073760032654, 0.15387272834777832, 0.34193938970565796, 0.27355149388313293, 0.13677574694156647, 0.10258181393146515, 0.24297882616519928, 0.728936493396759, 0.8259679079055786, 0.8634635806083679, 0.08145882934331894, 0.016291765496134758, 0.016291765496134758, 0.24789142608642578, 0.7436742782592773, 0.2212909460067749, 0.2212909460067749, 0.5532273650169373, 0.3122483789920807, 0.23877817392349243, 0.2020430713891983, 0.12857286632061005, 0.09183776378631592, 0.731061577796936, 0.091382697224617, 0.182765394449234, 0.344054251909256, 0.07645649462938309, 0.1911412477493286, 0.20388399064540863, 0.20388399064540863, 0.3389657735824585, 0.381336510181427, 0.12711216509342194, 0.12711216509342194, 0.5946841835975647, 0.0849548801779747, 0.11327317357063293, 0.19822806119918823, 0.8275116682052612, 0.644757091999054, 0.05372975766658783, 0.10745951533317566, 0.05372975766658783, 0.14775682985782623, 0.41109365224838257, 0.18597093224525452, 0.10766737908124924, 0.1370312124490738, 0.14681915938854218, 0.5019370913505554, 0.167312353849411, 0.167312353849411, 0.06889332085847855, 0.09841903299093246, 0.7472202777862549, 0.24907343089580536, 0.5795531868934631, 0.2361142486333847, 0.042929865419864655, 0.08585973083972931, 0.042929865419864655, 0.9606181383132935, 0.960702657699585, 0.8275254964828491, 0.3551956117153168, 0.532793402671814, 0.8752184510231018, 0.12503120303153992, 0.8259144425392151, 0.24848991632461548, 0.7454697489738464, 0.8100150227546692, 0.6798651814460754, 0.10734713822603226, 0.17891189455986023, 0.9201051592826843, 0.8258994817733765, 0.8166736364364624, 0.8412397503852844, 0.4209040701389313, 0.049518123269081116, 0.1733134388923645, 0.27234968543052673, 0.09903624653816223, 0.1935109943151474, 0.2902664840221405, 0.43539974093437195, 0.14513324201107025, 0.5360937714576721, 0.12996211647987366, 0.08122632652521133, 0.14620739221572876, 0.09747159481048584, 0.6929813623428345, 0.01979946717619896, 0.0989973396062851, 0.01979946717619896, 0.15839573740959167, 0.5344511270523071, 0.1943458616733551, 0.170052632689476, 0.09717293083667755, 0.2400115430355072, 0.720034658908844, 0.8164116144180298, 0.24283836781978607, 0.048567675054073334, 0.24283836781978607, 0.19427070021629333, 0.2914060354232788, 0.582762598991394, 0.06724183261394501, 0.022413944825530052, 0.33620917797088623, 0.12252210080623627, 0.24504420161247253, 0.6126105189323425, 0.8167005181312561, 0.8275368809700012, 0.15166933834552765, 0.15166933834552765, 0.5055644512176514, 0.20222578942775726, 0.8274954557418823, 0.35490378737449646, 0.473205029964447, 0.07886750996112823, 0.07886750996112823, 0.810015082359314, 0.8259627223014832, 0.377174973487854, 0.08704037964344025, 0.3191480338573456, 0.11605383455753326, 0.10154710710048676, 0.8259528279304504, 0.6178991198539734, 0.13432589173316956, 0.13432589173316956, 0.040297769010066986, 0.06716294586658478, 0.24297663569450378, 0.7289299368858337, 0.8274489641189575, 0.7911375761032104, 0.11301965266466141, 0.6981630325317383, 0.17454075813293457, 0.12426666170358658, 0.12426666170358658, 0.7455999851226807, 0.8166743516921997, 0.22604911029338837, 0.045209821313619614, 0.045209821313619614, 0.2712589204311371, 0.45209822058677673, 0.960832953453064, 0.5234789252281189, 0.06543486565351486, 0.392609179019928, 0.5335337519645691, 0.09700613468885422, 0.33952146768569946, 0.6122269630432129, 0.30611348152160645, 0.9201129674911499, 0.9201217293739319, 0.8259678483009338, 0.20666418969631195, 0.6199926137924194, 0.5038877129554749, 0.16342303156852722, 0.13618585467338562, 0.08171151578426361, 0.10894868522882462, 0.7466486692428589, 0.24888288974761963, 0.2034943699836731, 0.2034943699836731, 0.2034943699836731, 0.4069887399673462, 0.8025577664375305, 0.06687981635332108, 0.13375963270664215, 0.08403702080249786, 0.33614808320999146, 0.4201851189136505, 0.1260555386543274, 0.04201851040124893, 0.8166744709014893, 0.15155798196792603, 0.7577899098396301, 0.8166421055793762, 0.5465568900108337, 0.071290023624897, 0.23763342201709747, 0.11881671100854874, 0.8100150227546692, 0.9358759522438049, 0.9318891167640686, 0.39638495445251465, 0.475661963224411, 0.15855398774147034, 0.8274908065795898, 0.731181800365448, 0.17548362910747528, 0.05849454551935196, 0.02924727275967598, 0.6109700798988342, 0.3054850399494171, 0.9010084867477417, 0.45474451780319214, 0.45474451780319214, 0.09094890207052231, 0.25617027282714844, 0.6404257416725159, 0.12808513641357422, 0.24935391545295715, 0.7480617761611938, 0.8198115229606628, 0.10247644037008286, 0.8259679079055786, 0.6072112321853638, 0.08096150308847427, 0.08096150308847427, 0.20240375399589539, 0.026987167075276375, 0.39655613899230957, 0.3115798234939575, 0.19827806949615479, 0.08497631549835205, 0.8259334564208984, 0.6112940311431885, 0.2037646770477295, 0.9358295798301697, 0.2986322343349457, 0.32849544286727905, 0.20904256403446198, 0.059726446866989136, 0.0895896703004837, 0.8164049386978149, 0.931926429271698, 0.748556911945343, 0.8259679079055786, 0.9358847141265869, 0.8259547352790833, 0.9359556436538696, 0.9358528852462769, 0.3216916620731354, 0.5361527800559998, 0.11316125094890594, 0.867569625377655, 0.037720415741205215, 0.9606407284736633, 0.28672754764556885, 0.43009132146835327, 0.09557584673166275, 0.1911516934633255, 0.27254948019981384, 0.6813737154006958, 0.82593834400177, 0.8166736364364624, 0.8166753053665161, 0.051196854561567307, 0.30718111991882324, 0.20478741824626923, 0.35837799310684204, 0.051196854561567307, 0.8100150227546692, 0.9367682933807373, 0.31961148977279663, 0.15980574488639832, 0.15980574488639832, 0.18644002079963684, 0.15980574488639832, 0.3978796601295471, 0.5305061936378479, 0.9338709712028503, 0.4899367690086365, 0.14698103070259094, 0.04899367690086365, 0.2939620614051819, 0.7468217611312866, 0.8307795524597168, 0.8100150227546692, 0.3417842984199524, 0.47849804162979126, 0.2050705850124359, 0.8100149035453796, 0.46034443378448486, 0.08631458133459091, 0.14385762810707092, 0.08631458133459091, 0.23017221689224243, 0.9318891167640686, 0.6756716370582581, 0.13513433933258057, 0.3850887715816498, 0.22005072236061096, 0.2750633955001831, 0.11002536118030548, 0.8259593844413757, 0.2027747631072998, 0.6083242893218994, 0.9358406066894531, 0.20142173767089844, 0.4431278109550476, 0.12085303664207458, 0.1611373871564865, 0.12085303664207458, 0.21848876774311066, 0.32336339354515076, 0.1660514622926712, 0.20100967586040497, 0.08739551156759262, 0.7318754196166992, 0.2439584881067276, 0.9010511636734009, 0.34349778294563293, 0.1962844431400299, 0.163570374250412, 0.26171261072158813, 0.06542815268039703, 0.8274761438369751, 0.8275101780891418, 0.9338923692703247, 0.9339041113853455, 0.7392587661743164, 0.24641959369182587, 0.3402217626571655, 0.5103326439857483, 0.5907105207443237, 0.2215164601802826, 0.09845175594091415, 0.07383881509304047, 0.02461293898522854, 0.422911137342453, 0.08458222448825836, 0.27489224076271057, 0.16916444897651672, 0.06343667209148407, 0.8693081736564636, 0.9358488917350769, 0.2076025903224945, 0.177945077419281, 0.118630051612854, 0.2076025903224945, 0.296575129032135, 0.5129896402359009, 0.1025979295372963, 0.3590927720069885, 0.7632423043251038, 0.152648463845253, 0.2194194197654724, 0.1645645648241043, 0.49369367957115173, 0.1645645648241043, 0.8259202241897583], \"Term\": [\"abroad\", \"accord\", \"account\", \"accounting\", \"acquire\", \"acra\", \"act\", \"advantage\", \"advantage\", \"allow\", \"allow\", \"allow\", \"already\", \"already\", \"also\", \"also\", \"also\", \"also\", \"also\", \"always\", \"always\", \"always\", \"always\", \"always\", \"arch\", \"atmosphere\", \"atmosphere\", \"attitude\", \"attitude\", \"attitude\", \"avon\", \"avon\", \"avon\", \"avon\", \"avon\", \"back\", \"back\", \"back\", \"background\", \"balance\", \"balance\", \"beat\", \"become\", \"become\", \"become\", \"believe\", \"benefit\", \"benefit\", \"benefit\", \"benefit\", \"benefit\", \"benifit\", \"big\", \"big\", \"big\", \"big\", \"biz\", \"board\", \"board\", \"bonus\", \"bonus\", \"bonus\", \"bonus\", \"break\", \"break\", \"buck\", \"business\", \"business\", \"business\", \"business\", \"business\", \"busy\", \"busy\", \"cancer\", \"care\", \"care\", \"care\", \"care\", \"career\", \"career\", \"career\", \"cebuana\", \"change\", \"change\", \"change\", \"change\", \"chicken\", \"churn\", \"cio\", \"client\", \"client\", \"clock\", \"co\", \"co\", \"co\", \"co\", \"co\", \"coaching\", \"colleague\", \"colleague\", \"colleague\", \"come\", \"come\", \"come\", \"come\", \"commensurate\", \"common\", \"company\", \"company\", \"company\", \"company\", \"company\", \"competitiveness\", \"complaint\", \"complaint\", \"compress\", \"conference\", \"conflict\", \"constantly\", \"constantly\", \"corporate\", \"corporate\", \"corporation\", \"corporation\", \"corporation\", \"coworker\", \"coworker\", \"cpa\", \"crazy\", \"crew\", \"crew\", \"crew\", \"crew\", \"crew\", \"criticize\", \"culture\", \"culture\", \"culture\", \"culture\", \"cure\", \"customer\", \"customer\", \"customer\", \"customer\", \"cycle\", \"day\", \"day\", \"day\", \"day\", \"day\", \"decision\", \"decision\", \"decline\", \"delay\", \"deployment\", \"description\", \"description\", \"development\", \"development\", \"development\", \"development\", \"difficult\", \"difficult\", \"diverse\", \"division\", \"dollar\", \"dollar\", \"dream\", \"drive\", \"efficient\", \"employee\", \"employee\", \"employee\", \"employee\", \"employee\", \"encounter\", \"encounter\", \"encounter\", \"enjoy\", \"enjoy\", \"enjoy\", \"enjoyable\", \"enough\", \"enough\", \"enough\", \"enough\", \"environment\", \"environment\", \"environment\", \"environment\", \"environment\", \"errand\", \"especially\", \"especially\", \"especially\", \"especially\", \"establish\", \"establish\", \"even\", \"even\", \"even\", \"even\", \"even\", \"event\", \"event\", \"event\", \"everything\", \"everything\", \"everything\", \"everything\", \"executive\", \"executive\", \"experience\", \"experience\", \"experience\", \"experience\", \"experience\", \"faith\", \"family\", \"family\", \"family\", \"family\", \"far\", \"far\", \"fast\", \"fast\", \"fast\", \"fast\", \"fast\", \"feci\", \"feeling\", \"field\", \"field\", \"fight\", \"filipino\", \"filipino\", \"finish\", \"first\", \"first\", \"first\", \"first\", \"fluidity\", \"food\", \"food\", \"food\", \"food\", \"food\", \"forever\", \"foster\", \"franchise\", \"franchise\", \"franchise\", \"franchised\", \"friendly\", \"friendly\", \"friendly\", \"frisk\", \"front\", \"front\", \"fun\", \"fun\", \"fun\", \"fun\", \"fun\", \"gain\", \"gain\", \"gain\", \"get\", \"get\", \"get\", \"get\", \"give\", \"give\", \"give\", \"give\", \"give\", \"go\", \"go\", \"go\", \"go\", \"go\", \"gold\", \"golden\", \"great\", \"great\", \"great\", \"great\", \"great\", \"ground\", \"ground\", \"ground\", \"group\", \"growth\", \"growth\", \"growth\", \"growth\", \"habit\", \"heavy\", \"hectic\", \"help\", \"help\", \"help\", \"help\", \"high\", \"high\", \"high\", \"high\", \"highly\", \"hour\", \"hour\", \"hour\", \"hour\", \"hour\", \"hr\", \"immediately\", \"implementation\", \"individual\", \"individual\", \"input\", \"insurance\", \"internet\", \"internet\", \"irate\", \"job\", \"job\", \"job\", \"job\", \"job\", \"joke\", \"jollibe\", \"jollibee\", \"jollibee\", \"jollibee\", \"jollibee\", \"jollibee\", \"jolly\", \"keep\", \"keep\", \"keep\", \"keep\", \"keep\", \"know\", \"know\", \"know\", \"know\", \"know\", \"knowledge\", \"knowledge\", \"knowledge\", \"knowledge\", \"lay\", \"leadership\", \"leadership\", \"leadership\", \"leadership\", \"lean\", \"learn\", \"learn\", \"learn\", \"learn\", \"learn\", \"least\", \"least\", \"lhuilli\", \"life\", \"life\", \"life\", \"life\", \"live\", \"live\", \"load\", \"load\", \"load\", \"long\", \"long\", \"long\", \"long\", \"long\", \"look\", \"look\", \"look\", \"lot\", \"lot\", \"lot\", \"lot\", \"lot\", \"love\", \"love\", \"love\", \"love\", \"low\", \"low\", \"low\", \"low\", \"lower\", \"make\", \"make\", \"make\", \"make\", \"make\", \"management\", \"management\", \"management\", \"management\", \"management\", \"manager\", \"manager\", \"manager\", \"manager\", \"manager\", \"managerial\", \"managerial\", \"many\", \"many\", \"many\", \"many\", \"many\", \"marketing\", \"mcdonald\", \"meaning\", \"medical\", \"medical\", \"meet\", \"meet\", \"micro\", \"minimal\", \"minimal\", \"moment\", \"money\", \"money\", \"money\", \"monthly\", \"motivation\", \"mouth\", \"move\", \"much\", \"much\", \"much\", \"much\", \"much\", \"must\", \"must\", \"must\", \"must\", \"need\", \"need\", \"need\", \"need\", \"need\", \"new\", \"new\", \"new\", \"new\", \"new\", \"nice\", \"nice\", \"nice\", \"nice\", \"night\", \"night\", \"normally\", \"office\", \"office\", \"office\", \"office\", \"office\", \"opportunity\", \"opportunity\", \"opportunity\", \"opportunity\", \"orient\", \"orient\", \"orient\", \"ot\", \"output\", \"overtime\", \"overtime\", \"overtime\", \"overtime\", \"paper\", \"part\", \"part\", \"part\", \"part\", \"partly\", \"pawnshop\", \"pay\", \"pay\", \"pay\", \"pay\", \"pay\", \"peer\", \"people\", \"people\", \"people\", \"people\", \"people\", \"perfect\", \"perfect\", \"perfume\", \"personal\", \"personal\", \"personality\", \"personality\", \"philippine\", \"philippine\", \"philippine\", \"php\", \"place\", \"place\", \"place\", \"place\", \"place\", \"please\", \"politic\", \"politic\", \"politic\", \"position\", \"position\", \"position\", \"power\", \"power\", \"practice\", \"pretty\", \"pride\", \"pro\", \"pro\", \"product\", \"product\", \"product\", \"product\", \"product\", \"professionally\", \"professionally\", \"project\", \"project\", \"project\", \"project\", \"promotion\", \"promotion\", \"promotion\", \"provide\", \"provide\", \"provide\", \"provide\", \"provide\", \"push\", \"r\", \"r\", \"rarely\", \"really\", \"really\", \"really\", \"really\", \"reasonable\", \"receive\", \"red\", \"relationship\", \"relationship\", \"relationship\", \"relieve\", \"representative\", \"representative\", \"representative\", \"representative\", \"require\", \"require\", \"resource\", \"responsibility\", \"responsibility\", \"responsibility\", \"retail\", \"retail\", \"retail\", \"rewarding\", \"rewarding\", \"room\", \"room\", \"ruin\", \"salary\", \"salary\", \"salary\", \"salary\", \"salary\", \"sale\", \"sale\", \"sale\", \"sale\", \"sap\", \"saturday\", \"saturday\", \"scam\", \"schedule\", \"schedule\", \"schedule\", \"schedule\", \"schedule\", \"scholarship\", \"scmc\", \"season\", \"secure\", \"security\", \"seed\", \"selling\", \"sense\", \"serve\", \"serve\", \"service\", \"service\", \"service\", \"share\", \"shift\", \"shift\", \"shift\", \"shift\", \"short\", \"short\", \"shortage\", \"shut\", \"significant\", \"skill\", \"skill\", \"skill\", \"skill\", \"skill\", \"skin\", \"something\", \"sometimes\", \"sometimes\", \"sometimes\", \"sometimes\", \"sometimes\", \"specially\", \"specially\", \"split\", \"staff\", \"staff\", \"staff\", \"staff\", \"stepping\", \"stone\", \"storyland\", \"study\", \"study\", \"study\", \"supermarket\", \"take\", \"take\", \"take\", \"take\", \"take\", \"tape\", \"teach\", \"teach\", \"team\", \"team\", \"team\", \"team\", \"technical\", \"thank\", \"thank\", \"thigh\", \"think\", \"think\", \"think\", \"think\", \"think\", \"time\", \"time\", \"time\", \"time\", \"time\", \"tired\", \"tired\", \"today\", \"training\", \"training\", \"training\", \"training\", \"training\", \"transformation\", \"trouble\", \"turnaround\", \"u\", \"unpaid\", \"unpaid\", \"usually\", \"usually\", \"want\", \"want\", \"want\", \"want\", \"want\", \"well\", \"well\", \"well\", \"well\", \"well\", \"woman\", \"wonderful\", \"worker\", \"worker\", \"worker\", \"worker\", \"worker\", \"working\", \"working\", \"working\", \"workplace\", \"workplace\", \"would\", \"would\", \"would\", \"would\", \"yr\"]}, \"R\": 30, \"lambda.step\": 0.01, \"plot.opts\": {\"xlab\": \"PC1\", \"ylab\": \"PC2\"}, \"topic.order\": [1, 2, 3, 5, 4]};\n",
       "\n",
       "function LDAvis_load_lib(url, callback){\n",
       "  var s = document.createElement('script');\n",
       "  s.src = url;\n",
       "  s.async = true;\n",
       "  s.onreadystatechange = s.onload = callback;\n",
       "  s.onerror = function(){console.warn(\"failed to load library \" + url);};\n",
       "  document.getElementsByTagName(\"head\")[0].appendChild(s);\n",
       "}\n",
       "\n",
       "if(typeof(LDAvis) !== \"undefined\"){\n",
       "   // already loaded: just create the visualization\n",
       "   !function(LDAvis){\n",
       "       new LDAvis(\"#\" + \"ldavis_el1465227216969357529961816675\", ldavis_el1465227216969357529961816675_data);\n",
       "   }(LDAvis);\n",
       "}else if(typeof define === \"function\" && define.amd){\n",
       "   // require.js is available: use it to load d3/LDAvis\n",
       "   require.config({paths: {d3: \"https://cdnjs.cloudflare.com/ajax/libs/d3/3.5.5/d3.min\"}});\n",
       "   require([\"d3\"], function(d3){\n",
       "      window.d3 = d3;\n",
       "      LDAvis_load_lib(\"https://cdn.rawgit.com/bmabey/pyLDAvis/files/ldavis.v1.0.0.js\", function(){\n",
       "        new LDAvis(\"#\" + \"ldavis_el1465227216969357529961816675\", ldavis_el1465227216969357529961816675_data);\n",
       "      });\n",
       "    });\n",
       "}else{\n",
       "    // require.js not available: dynamically load d3 & LDAvis\n",
       "    LDAvis_load_lib(\"https://cdnjs.cloudflare.com/ajax/libs/d3/3.5.5/d3.min.js\", function(){\n",
       "         LDAvis_load_lib(\"https://cdn.rawgit.com/bmabey/pyLDAvis/files/ldavis.v1.0.0.js\", function(){\n",
       "                 new LDAvis(\"#\" + \"ldavis_el1465227216969357529961816675\", ldavis_el1465227216969357529961816675_data);\n",
       "            })\n",
       "         });\n",
       "}\n",
       "</script>"
      ],
      "text/plain": [
       "PreparedData(topic_coordinates=              x         y  topics  cluster       Freq\n",
       "topic                                                \n",
       "0      0.047938  0.025306       1        1  39.964317\n",
       "1     -0.119410 -0.042119       2        1  16.939753\n",
       "2     -0.023070  0.041663       3        1  15.282027\n",
       "4      0.069851 -0.103362       4        1  14.223073\n",
       "3      0.024691  0.078512       5        1  13.590821, topic_info=    Category        Freq       Term       Total  loglift  logprob\n",
       "889  Default   48.000000   jollibee   48.000000  30.0000  30.0000\n",
       "9    Default   71.000000   customer   71.000000  29.0000  29.0000\n",
       "25   Default   26.000000    service   26.000000  28.0000  28.0000\n",
       "33   Default  152.000000   employee  152.000000  27.0000  27.0000\n",
       "28   Default  103.000000    benefit  103.000000  26.0000  26.0000\n",
       "..       ...         ...        ...         ...      ...      ...\n",
       "344   Topic5    8.348527    product   73.429062  -0.1785  -5.2928\n",
       "76    Topic5    6.939299        pay   68.933525  -0.3002  -5.4777\n",
       "43    Topic5    6.338205     always   50.173584  -0.0731  -5.5683\n",
       "212   Topic5    6.158478  sometimes   37.545586   0.1880  -5.5971\n",
       "307   Topic5    6.189744       need   61.556396  -0.3013  -5.5920\n",
       "\n",
       "[407 rows x 6 columns], token_table=      Topic      Freq        Term\n",
       "term                             \n",
       "1406      4  0.931924      abroad\n",
       "1075      2  0.810015      accord\n",
       "1482      5  0.827511     account\n",
       "353       2  0.810015  accounting\n",
       "380       3  0.816669     acquire\n",
       "...     ...       ...         ...\n",
       "226       1  0.219419       would\n",
       "226       2  0.164565       would\n",
       "226       3  0.493694       would\n",
       "226       4  0.164565       would\n",
       "491       4  0.825920          yr\n",
       "\n",
       "[715 rows x 3 columns], R=30, lambda_step=0.01, plot_opts={'xlab': 'PC1', 'ylab': 'PC2'}, topic_order=[1, 2, 3, 5, 4])"
      ]
     },
     "execution_count": 11,
     "metadata": {},
     "output_type": "execute_result"
    }
   ],
   "source": [
    "out5 = pyLDAvis.gensim.prepare(ldamodel, dt_matrix, mdict)\n",
    "out5"
   ]
  },
  {
   "cell_type": "code",
   "execution_count": null,
   "metadata": {},
   "outputs": [],
   "source": []
  }
 ],
 "metadata": {
  "kernelspec": {
   "display_name": "Python 3",
   "language": "python",
   "name": "python3"
  },
  "language_info": {
   "codemirror_mode": {
    "name": "ipython",
    "version": 3
   },
   "file_extension": ".py",
   "mimetype": "text/x-python",
   "name": "python",
   "nbconvert_exporter": "python",
   "pygments_lexer": "ipython3",
   "version": "3.7.1"
  }
 },
 "nbformat": 4,
 "nbformat_minor": 2
}
